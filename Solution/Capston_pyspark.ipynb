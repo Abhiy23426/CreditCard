{
 "cells": [
  {
   "cell_type": "code",
   "execution_count": 1,
   "id": "cfa51717",
   "metadata": {},
   "outputs": [],
   "source": [
    "import findspark\n",
    "findspark.init()"
   ]
  },
  {
   "cell_type": "code",
   "execution_count": 2,
   "id": "e2c51550",
   "metadata": {},
   "outputs": [],
   "source": [
    "from pyspark.sql import SparkSession\n",
    "from pyspark.sql.types import *\n",
    "from pyspark.sql.functions import *"
   ]
  },
  {
   "cell_type": "code",
   "execution_count": 3,
   "id": "cffc5986",
   "metadata": {},
   "outputs": [],
   "source": [
    "spark = SparkSession.builder.appName(\"Capston project\").getOrCreate()"
   ]
  },
  {
   "cell_type": "code",
   "execution_count": 4,
   "id": "a5663eed",
   "metadata": {},
   "outputs": [],
   "source": [
    "sc = spark.sparkContext"
   ]
  },
  {
   "cell_type": "markdown",
   "id": "a53a734f",
   "metadata": {},
   "source": [
    "### Loading file"
   ]
  },
  {
   "cell_type": "code",
   "execution_count": 5,
   "id": "29f780e5",
   "metadata": {},
   "outputs": [],
   "source": [
    "data = sc.textFile(\"C:/Users/Miles/Desktop/Big Data/Capstone/credit-card-default-1000.csv\")"
   ]
  },
  {
   "cell_type": "code",
   "execution_count": 6,
   "id": "4b6b6208",
   "metadata": {},
   "outputs": [
    {
     "data": {
      "text/plain": [
       "C:/Users/Miles/Desktop/Big Data/Capstone/credit-card-default-1000.csv MapPartitionsRDD[1] at textFile at DirectMethodHandleAccessor.java:104"
      ]
     },
     "execution_count": 6,
     "metadata": {},
     "output_type": "execute_result"
    }
   ],
   "source": [
    "data"
   ]
  },
  {
   "cell_type": "code",
   "execution_count": 7,
   "id": "1fe27e45",
   "metadata": {},
   "outputs": [
    {
     "data": {
      "text/plain": [
       "pyspark.rdd.RDD"
      ]
     },
     "execution_count": 7,
     "metadata": {},
     "output_type": "execute_result"
    }
   ],
   "source": [
    "type(data)"
   ]
  },
  {
   "cell_type": "code",
   "execution_count": 8,
   "id": "c30d2b3b",
   "metadata": {},
   "outputs": [
    {
     "data": {
      "text/plain": [
       "['CUSTID,LIMIT_BAL,SEX,EDUCATION,MARRIAGE,AGE,PAY_1,PAY_2,PAY_3,PAY_4,PAY_5,PAY_6,BILL_AMT1,BILL_AMT2,BILL_AMT3,BILL_AMT4,BILL_AMT5,BILL_AMT6,PAY_AMT1,PAY_AMT2,PAY_AMT3,PAY_AMT4,PAY_AMT5,PAY_AMT6,DEFAULTED',\n",
       " '530,20000,2,2,2,21,-1,-1,2,2,-2,-2,0,0,0,0,0,0,0,0,0,0,162000,0,0',\n",
       " '38,60000,2,2,2,22,0,0,0,0,-2,-2,0,0,0,0,0,0,0,0,0,0,0,1576,0',\n",
       " '43,10000,1,2,2,22,0,0,0,0,-2,-2,0,0,0,0,0,0,0,0,0,0,0,1500,0']"
      ]
     },
     "execution_count": 8,
     "metadata": {},
     "output_type": "execute_result"
    }
   ],
   "source": [
    "data.take(4)"
   ]
  },
  {
   "cell_type": "markdown",
   "id": "2af6d3a7",
   "metadata": {},
   "source": [
    "### Removing headers"
   ]
  },
  {
   "cell_type": "code",
   "execution_count": 9,
   "id": "916d415c",
   "metadata": {},
   "outputs": [],
   "source": [
    "header = data.first()"
   ]
  },
  {
   "cell_type": "code",
   "execution_count": 10,
   "id": "a8a4b8da",
   "metadata": {},
   "outputs": [],
   "source": [
    "data = data.filter(lambda x:x!=header)"
   ]
  },
  {
   "cell_type": "code",
   "execution_count": 11,
   "id": "ead74b1a",
   "metadata": {},
   "outputs": [
    {
     "data": {
      "text/plain": [
       "['530,20000,2,2,2,21,-1,-1,2,2,-2,-2,0,0,0,0,0,0,0,0,0,0,162000,0,0',\n",
       " '38,60000,2,2,2,22,0,0,0,0,-2,-2,0,0,0,0,0,0,0,0,0,0,0,1576,0',\n",
       " '43,10000,1,2,2,22,0,0,0,0,-2,-2,0,0,0,0,0,0,0,0,0,0,0,1500,0',\n",
       " '47,20000,2,1,2,22,0,0,2,-1,0,-1,1131,291,582,291,0,291,291,582,0,0,130291,651,0',\n",
       " '70,20000,1,4,2,22,2,0,0,0,-1,-1,1692,13250,433,1831,0,2891,13250,433,1831,0,2891,153504,0']"
      ]
     },
     "execution_count": 11,
     "metadata": {},
     "output_type": "execute_result"
    }
   ],
   "source": [
    "data.take(5)"
   ]
  },
  {
   "cell_type": "code",
   "execution_count": 12,
   "id": "3300377e",
   "metadata": {},
   "outputs": [
    {
     "data": {
      "text/plain": [
       "1002"
      ]
     },
     "execution_count": 12,
     "metadata": {},
     "output_type": "execute_result"
    }
   ],
   "source": [
    "data.count()"
   ]
  },
  {
   "cell_type": "code",
   "execution_count": 13,
   "id": "e2e83ad5",
   "metadata": {},
   "outputs": [],
   "source": [
    "data = data.map(lambda x:x.split(','))"
   ]
  },
  {
   "cell_type": "code",
   "execution_count": 14,
   "id": "b2f4b02b",
   "metadata": {
    "scrolled": true
   },
   "outputs": [
    {
     "data": {
      "text/plain": [
       "[['530',\n",
       "  '20000',\n",
       "  '2',\n",
       "  '2',\n",
       "  '2',\n",
       "  '21',\n",
       "  '-1',\n",
       "  '-1',\n",
       "  '2',\n",
       "  '2',\n",
       "  '-2',\n",
       "  '-2',\n",
       "  '0',\n",
       "  '0',\n",
       "  '0',\n",
       "  '0',\n",
       "  '0',\n",
       "  '0',\n",
       "  '0',\n",
       "  '0',\n",
       "  '0',\n",
       "  '0',\n",
       "  '162000',\n",
       "  '0',\n",
       "  '0']]"
      ]
     },
     "execution_count": 14,
     "metadata": {},
     "output_type": "execute_result"
    }
   ],
   "source": [
    "data.take(1)"
   ]
  },
  {
   "cell_type": "markdown",
   "id": "9176b132",
   "metadata": {},
   "source": [
    "### 3.Cleanup data. Remove lines that are not \"CSV\""
   ]
  },
  {
   "cell_type": "code",
   "execution_count": 15,
   "id": "49d39323",
   "metadata": {},
   "outputs": [],
   "source": [
    "data = data.filter(lambda x:all(x))"
   ]
  },
  {
   "cell_type": "code",
   "execution_count": 16,
   "id": "f71599b6",
   "metadata": {},
   "outputs": [
    {
     "data": {
      "text/plain": [
       "1000"
      ]
     },
     "execution_count": 16,
     "metadata": {},
     "output_type": "execute_result"
    }
   ],
   "source": [
    "data.count()"
   ]
  },
  {
   "cell_type": "code",
   "execution_count": 17,
   "id": "857cf584",
   "metadata": {
    "scrolled": true
   },
   "outputs": [
    {
     "data": {
      "text/plain": [
       "[['530',\n",
       "  '20000',\n",
       "  '2',\n",
       "  '2',\n",
       "  '2',\n",
       "  '21',\n",
       "  '-1',\n",
       "  '-1',\n",
       "  '2',\n",
       "  '2',\n",
       "  '-2',\n",
       "  '-2',\n",
       "  '0',\n",
       "  '0',\n",
       "  '0',\n",
       "  '0',\n",
       "  '0',\n",
       "  '0',\n",
       "  '0',\n",
       "  '0',\n",
       "  '0',\n",
       "  '0',\n",
       "  '162000',\n",
       "  '0',\n",
       "  '0']]"
      ]
     },
     "execution_count": 17,
     "metadata": {},
     "output_type": "execute_result"
    }
   ],
   "source": [
    "data.take(1)"
   ]
  },
  {
   "cell_type": "markdown",
   "id": "03243b2d",
   "metadata": {},
   "source": [
    "### 4. Remove double quotes that are present in few records."
   ]
  },
  {
   "cell_type": "code",
   "execution_count": null,
   "id": "6af7802f",
   "metadata": {},
   "outputs": [],
   "source": []
  },
  {
   "cell_type": "markdown",
   "id": "f69a0b2c",
   "metadata": {},
   "source": [
    "### Converting object column into integer"
   ]
  },
  {
   "cell_type": "code",
   "execution_count": 18,
   "id": "b230ea3e",
   "metadata": {},
   "outputs": [],
   "source": [
    "data1 = data.map(lambda x: [int(x[i]) if i!=2 else x[i] for i in range(len(x))])"
   ]
  },
  {
   "cell_type": "code",
   "execution_count": 19,
   "id": "8b2abb5e",
   "metadata": {},
   "outputs": [
    {
     "data": {
      "text/plain": [
       "[[530,\n",
       "  20000,\n",
       "  '2',\n",
       "  2,\n",
       "  2,\n",
       "  21,\n",
       "  -1,\n",
       "  -1,\n",
       "  2,\n",
       "  2,\n",
       "  -2,\n",
       "  -2,\n",
       "  0,\n",
       "  0,\n",
       "  0,\n",
       "  0,\n",
       "  0,\n",
       "  0,\n",
       "  0,\n",
       "  0,\n",
       "  0,\n",
       "  0,\n",
       "  162000,\n",
       "  0,\n",
       "  0]]"
      ]
     },
     "execution_count": 19,
     "metadata": {},
     "output_type": "execute_result"
    }
   ],
   "source": [
    "data1.take(1)"
   ]
  },
  {
   "cell_type": "code",
   "execution_count": null,
   "id": "c35a1312",
   "metadata": {},
   "outputs": [],
   "source": []
  },
  {
   "cell_type": "markdown",
   "id": "3d2dab1a",
   "metadata": {},
   "source": [
    "### Converting it into dataframe"
   ]
  },
  {
   "cell_type": "code",
   "execution_count": 20,
   "id": "d348e858",
   "metadata": {},
   "outputs": [
    {
     "data": {
      "text/plain": [
       "'CUSTID,LIMIT_BAL,SEX,EDUCATION,MARRIAGE,AGE,PAY_1,PAY_2,PAY_3,PAY_4,PAY_5,PAY_6,BILL_AMT1,BILL_AMT2,BILL_AMT3,BILL_AMT4,BILL_AMT5,BILL_AMT6,PAY_AMT1,PAY_AMT2,PAY_AMT3,PAY_AMT4,PAY_AMT5,PAY_AMT6,DEFAULTED'"
      ]
     },
     "execution_count": 20,
     "metadata": {},
     "output_type": "execute_result"
    }
   ],
   "source": [
    "header"
   ]
  },
  {
   "cell_type": "code",
   "execution_count": 21,
   "id": "2d53fee9",
   "metadata": {
    "scrolled": true
   },
   "outputs": [
    {
     "data": {
      "text/plain": [
       "[[530,\n",
       "  20000,\n",
       "  '2',\n",
       "  2,\n",
       "  2,\n",
       "  21,\n",
       "  -1,\n",
       "  -1,\n",
       "  2,\n",
       "  2,\n",
       "  -2,\n",
       "  -2,\n",
       "  0,\n",
       "  0,\n",
       "  0,\n",
       "  0,\n",
       "  0,\n",
       "  0,\n",
       "  0,\n",
       "  0,\n",
       "  0,\n",
       "  0,\n",
       "  162000,\n",
       "  0,\n",
       "  0],\n",
       " [38,\n",
       "  60000,\n",
       "  '2',\n",
       "  2,\n",
       "  2,\n",
       "  22,\n",
       "  0,\n",
       "  0,\n",
       "  0,\n",
       "  0,\n",
       "  -2,\n",
       "  -2,\n",
       "  0,\n",
       "  0,\n",
       "  0,\n",
       "  0,\n",
       "  0,\n",
       "  0,\n",
       "  0,\n",
       "  0,\n",
       "  0,\n",
       "  0,\n",
       "  0,\n",
       "  1576,\n",
       "  0]]"
      ]
     },
     "execution_count": 21,
     "metadata": {},
     "output_type": "execute_result"
    }
   ],
   "source": [
    "data1.take(2)"
   ]
  },
  {
   "cell_type": "code",
   "execution_count": 22,
   "id": "41b547da",
   "metadata": {},
   "outputs": [
    {
     "data": {
      "text/plain": [
       "'CUSTID,LIMIT_BAL,SEX,EDUCATION,MARRIAGE,AGE,PAY_1,PAY_2,PAY_3,PAY_4,PAY_5,PAY_6,BILL_AMT1,BILL_AMT2,BILL_AMT3,BILL_AMT4,BILL_AMT5,BILL_AMT6,PAY_AMT1,PAY_AMT2,PAY_AMT3,PAY_AMT4,PAY_AMT5,PAY_AMT6,DEFAULTED'"
      ]
     },
     "execution_count": 22,
     "metadata": {},
     "output_type": "execute_result"
    }
   ],
   "source": [
    "header "
   ]
  },
  {
   "cell_type": "raw",
   "id": "47abb778",
   "metadata": {},
   "source": [
    "# defining schema \n",
    "\n",
    "schema = StructType(\n",
    "            [\n",
    "                StructField(\"cust_id\",IntegerType()),\n",
    "                StructField(\"limit_bal\",IntegerType()),\n",
    "                StructField(\"sex\",StringType()),\n",
    "                StructField(\"education\",IntegerType()),\n",
    "                StructField(\"marriage\",IntegerType()),\n",
    "                StructField(\"Age\",IntegerType()),\n",
    "                StructField(\"pay_1\",IntegerType()),\n",
    "                StructField(\"pay_2\",IntegerType()),\n",
    "                StructField(\"pay_3\",IntegerType()),\n",
    "                StructField(\"pay_4\",IntegerType()),\n",
    "                StructField(\"pay_5\",IntegerType()),\n",
    "                StructField(\"pay_6\",IntegerType()),\n",
    "                StructField(\"bill_amt1\",IntegerType()),\n",
    "                StructField(\"bill_amt2\",IntegerType()),\n",
    "                StructField(\"bill_amt3\",IntegerType()),\n",
    "                StructField(\"bill_amt4\",IntegerType()),\n",
    "                StructField(\"bill_amt5\",IntegerType()),\n",
    "                StructField(\"bill_amt6\",IntegerType()),\n",
    "                StructField(\"pay_amt1\",IntegerType()),\n",
    "                StructField(\"pay_amt2\",IntegerType()),\n",
    "                StructField(\"pay_amt3\",IntegerType()),\n",
    "                StructField(\"pay_amt4\",IntegerType()),\n",
    "                StructField(\"pay_amt5\",IntegerType()),\n",
    "                StructField(\"pay_amt6\",IntegerType()),\n",
    "                StructField(\"defaulted\",IntegerType()),\n",
    "            ]\n",
    "            )\n"
   ]
  },
  {
   "cell_type": "code",
   "execution_count": 23,
   "id": "c11eb2b5",
   "metadata": {
    "scrolled": true
   },
   "outputs": [],
   "source": [
    "# df = spark.createDataFrame(data, schema= schema)\n",
    "df = data1.toDF(schema = header.split(','))"
   ]
  },
  {
   "cell_type": "code",
   "execution_count": 24,
   "id": "613dc229",
   "metadata": {},
   "outputs": [
    {
     "name": "stdout",
     "output_type": "stream",
     "text": [
      "+------+---------+---+---------+--------+---+-----+-----+-----+-----+-----+-----+---------+---------+---------+---------+---------+---------+--------+--------+--------+--------+--------+--------+---------+\n",
      "|CUSTID|LIMIT_BAL|SEX|EDUCATION|MARRIAGE|AGE|PAY_1|PAY_2|PAY_3|PAY_4|PAY_5|PAY_6|BILL_AMT1|BILL_AMT2|BILL_AMT3|BILL_AMT4|BILL_AMT5|BILL_AMT6|PAY_AMT1|PAY_AMT2|PAY_AMT3|PAY_AMT4|PAY_AMT5|PAY_AMT6|DEFAULTED|\n",
      "+------+---------+---+---------+--------+---+-----+-----+-----+-----+-----+-----+---------+---------+---------+---------+---------+---------+--------+--------+--------+--------+--------+--------+---------+\n",
      "|   530|    20000|  2|        2|       2| 21|   -1|   -1|    2|    2|   -2|   -2|        0|        0|        0|        0|        0|        0|       0|       0|       0|       0|  162000|       0|        0|\n",
      "|    38|    60000|  2|        2|       2| 22|    0|    0|    0|    0|   -2|   -2|        0|        0|        0|        0|        0|        0|       0|       0|       0|       0|       0|    1576|        0|\n",
      "|    43|    10000|  1|        2|       2| 22|    0|    0|    0|    0|   -2|   -2|        0|        0|        0|        0|        0|        0|       0|       0|       0|       0|       0|    1500|        0|\n",
      "|    47|    20000|  2|        1|       2| 22|    0|    0|    2|   -1|    0|   -1|     1131|      291|      582|      291|        0|      291|     291|     582|       0|       0|  130291|     651|        0|\n",
      "|    70|    20000|  1|        4|       2| 22|    2|    0|    0|    0|   -1|   -1|     1692|    13250|      433|     1831|        0|     2891|   13250|     433|    1831|       0|    2891|  153504|        0|\n",
      "+------+---------+---+---------+--------+---+-----+-----+-----+-----+-----+-----+---------+---------+---------+---------+---------+---------+--------+--------+--------+--------+--------+--------+---------+\n",
      "only showing top 5 rows\n",
      "\n"
     ]
    }
   ],
   "source": [
    "df.show(5)"
   ]
  },
  {
   "cell_type": "code",
   "execution_count": 25,
   "id": "e6a91fe7",
   "metadata": {},
   "outputs": [
    {
     "name": "stdout",
     "output_type": "stream",
     "text": [
      "root\n",
      " |-- CUSTID: long (nullable = true)\n",
      " |-- LIMIT_BAL: long (nullable = true)\n",
      " |-- SEX: string (nullable = true)\n",
      " |-- EDUCATION: long (nullable = true)\n",
      " |-- MARRIAGE: long (nullable = true)\n",
      " |-- AGE: long (nullable = true)\n",
      " |-- PAY_1: long (nullable = true)\n",
      " |-- PAY_2: long (nullable = true)\n",
      " |-- PAY_3: long (nullable = true)\n",
      " |-- PAY_4: long (nullable = true)\n",
      " |-- PAY_5: long (nullable = true)\n",
      " |-- PAY_6: long (nullable = true)\n",
      " |-- BILL_AMT1: long (nullable = true)\n",
      " |-- BILL_AMT2: long (nullable = true)\n",
      " |-- BILL_AMT3: long (nullable = true)\n",
      " |-- BILL_AMT4: long (nullable = true)\n",
      " |-- BILL_AMT5: long (nullable = true)\n",
      " |-- BILL_AMT6: long (nullable = true)\n",
      " |-- PAY_AMT1: long (nullable = true)\n",
      " |-- PAY_AMT2: long (nullable = true)\n",
      " |-- PAY_AMT3: long (nullable = true)\n",
      " |-- PAY_AMT4: long (nullable = true)\n",
      " |-- PAY_AMT5: long (nullable = true)\n",
      " |-- PAY_AMT6: long (nullable = true)\n",
      " |-- DEFAULTED: long (nullable = true)\n",
      "\n"
     ]
    }
   ],
   "source": [
    "df.printSchema()"
   ]
  },
  {
   "cell_type": "code",
   "execution_count": null,
   "id": "83cf36a2",
   "metadata": {},
   "outputs": [],
   "source": []
  },
  {
   "cell_type": "markdown",
   "id": "9da59ec2",
   "metadata": {},
   "source": [
    "### 5. rounding of age to range of 10s.  "
   ]
  },
  {
   "cell_type": "code",
   "execution_count": 26,
   "id": "116112e8",
   "metadata": {},
   "outputs": [
    {
     "name": "stdout",
     "output_type": "stream",
     "text": [
      "+------+---------+---+---------+--------+---+-----+-----+-----+-----+-----+-----+---------+---------+---------+---------+---------+---------+--------+--------+--------+--------+--------+--------+---------+\n",
      "|CUSTID|LIMIT_BAL|SEX|EDUCATION|MARRIAGE|AGE|PAY_1|PAY_2|PAY_3|PAY_4|PAY_5|PAY_6|BILL_AMT1|BILL_AMT2|BILL_AMT3|BILL_AMT4|BILL_AMT5|BILL_AMT6|PAY_AMT1|PAY_AMT2|PAY_AMT3|PAY_AMT4|PAY_AMT5|PAY_AMT6|DEFAULTED|\n",
      "+------+---------+---+---------+--------+---+-----+-----+-----+-----+-----+-----+---------+---------+---------+---------+---------+---------+--------+--------+--------+--------+--------+--------+---------+\n",
      "|   530|    20000|  2|        2|       2| 21|   -1|   -1|    2|    2|   -2|   -2|        0|        0|        0|        0|        0|        0|       0|       0|       0|       0|  162000|       0|        0|\n",
      "|    38|    60000|  2|        2|       2| 22|    0|    0|    0|    0|   -2|   -2|        0|        0|        0|        0|        0|        0|       0|       0|       0|       0|       0|    1576|        0|\n",
      "|    43|    10000|  1|        2|       2| 22|    0|    0|    0|    0|   -2|   -2|        0|        0|        0|        0|        0|        0|       0|       0|       0|       0|       0|    1500|        0|\n",
      "|    47|    20000|  2|        1|       2| 22|    0|    0|    2|   -1|    0|   -1|     1131|      291|      582|      291|        0|      291|     291|     582|       0|       0|  130291|     651|        0|\n",
      "|    70|    20000|  1|        4|       2| 22|    2|    0|    0|    0|   -1|   -1|     1692|    13250|      433|     1831|        0|     2891|   13250|     433|    1831|       0|    2891|  153504|        0|\n",
      "+------+---------+---+---------+--------+---+-----+-----+-----+-----+-----+-----+---------+---------+---------+---------+---------+---------+--------+--------+--------+--------+--------+--------+---------+\n",
      "only showing top 5 rows\n",
      "\n"
     ]
    }
   ],
   "source": [
    "df.show(5)"
   ]
  },
  {
   "cell_type": "code",
   "execution_count": 27,
   "id": "1dd97e52",
   "metadata": {},
   "outputs": [],
   "source": [
    "from pyspark.sql.functions import *"
   ]
  },
  {
   "cell_type": "code",
   "execution_count": 28,
   "id": "74f9e05f",
   "metadata": {
    "scrolled": true
   },
   "outputs": [],
   "source": [
    "def func(x):\n",
    "    x = floor(x/10) \n",
    "    x = x*10\n",
    "#     return (x//10)*10\n",
    "    return x\n",
    "    \n",
    "    \n",
    "df = df.withColumn('range_of_10s', func(col('AGE')) )"
   ]
  },
  {
   "cell_type": "code",
   "execution_count": 29,
   "id": "90693111",
   "metadata": {},
   "outputs": [
    {
     "name": "stdout",
     "output_type": "stream",
     "text": [
      "+------+---------+---+---------+--------+---+-----+-----+-----+-----+-----+-----+---------+---------+---------+---------+---------+---------+--------+--------+--------+--------+--------+--------+---------+------------+\n",
      "|CUSTID|LIMIT_BAL|SEX|EDUCATION|MARRIAGE|AGE|PAY_1|PAY_2|PAY_3|PAY_4|PAY_5|PAY_6|BILL_AMT1|BILL_AMT2|BILL_AMT3|BILL_AMT4|BILL_AMT5|BILL_AMT6|PAY_AMT1|PAY_AMT2|PAY_AMT3|PAY_AMT4|PAY_AMT5|PAY_AMT6|DEFAULTED|range_of_10s|\n",
      "+------+---------+---+---------+--------+---+-----+-----+-----+-----+-----+-----+---------+---------+---------+---------+---------+---------+--------+--------+--------+--------+--------+--------+---------+------------+\n",
      "|   530|    20000|  2|        2|       2| 21|   -1|   -1|    2|    2|   -2|   -2|        0|        0|        0|        0|        0|        0|       0|       0|       0|       0|  162000|       0|        0|          20|\n",
      "|    38|    60000|  2|        2|       2| 22|    0|    0|    0|    0|   -2|   -2|        0|        0|        0|        0|        0|        0|       0|       0|       0|       0|       0|    1576|        0|          20|\n",
      "|    43|    10000|  1|        2|       2| 22|    0|    0|    0|    0|   -2|   -2|        0|        0|        0|        0|        0|        0|       0|       0|       0|       0|       0|    1500|        0|          20|\n",
      "|    47|    20000|  2|        1|       2| 22|    0|    0|    2|   -1|    0|   -1|     1131|      291|      582|      291|        0|      291|     291|     582|       0|       0|  130291|     651|        0|          20|\n",
      "|    70|    20000|  1|        4|       2| 22|    2|    0|    0|    0|   -1|   -1|     1692|    13250|      433|     1831|        0|     2891|   13250|     433|    1831|       0|    2891|  153504|        0|          20|\n",
      "|    79|    30000|  2|        2|       2| 22|    0|    0|    0|    0|   -2|   -2|     1544|     1648|     1284|     1088|      892|     -304|    1300|    1000|    1000|    1000|     304|   39544|        0|          20|\n",
      "|    99|    50000|  F|        3|       1| 22|    0|    0|    0|    0|   -1|   -1|        0|        0|        0|        0|      166|      541|       0|       0|       0|     166|     543|    4268|        0|          20|\n",
      "|   104|    50000|  2|        3|       2| 22|    0|    0|    0|    0|   -1|   -1|      780|        0|      780|      390|      390|      500|       0|     780|       0|     390|     500|   18300|        0|          20|\n",
      "|   135|    30000|  2|        2|       2| 22|    0|    0|    0|    0|   -2|   -2|       92|       92|       92|        0|       92|        0|      92|      92|       0|      92|       0|    1883|        0|          20|\n",
      "|   170|    50000|  2|        2|       2| 22|    0|    0|    0|    0|    2|   -1|     -190|    -9850|    -9850|    10311|    10161|     7319|       0|       0|   20161|       0|    7319|   13899|        0|          20|\n",
      "|   173|    50000|  2|        2|       2| 22|   -1|    0|    0|    0|   -1|   -1|        0|        0|      250|      123|      789|     1222|       0|     250|       0|     789|    1222|    9616|        0|          20|\n",
      "|   179|    20000|  2|        2|       2| 22|    0|    0|    0|    0|   -1|   -1|        0|        0|        0|        0|      595|        0|       0|       0|       0|     595|       0|    2370|        0|          20|\n",
      "|   198|    20000|  2|        1|       2| 22|    0|    0|    0|    0|   -2|   -1|      -54|      273|       19|     -254|     -527|     1096|     600|      19|       0|       0|    1896|       0|        0|          20|\n",
      "|   200|    30000|  2|        3|       2| 22|    1|    2|    2|    0|   -2|   -2|      -14|     2568|     -387|     -387|     -387|      113|    2582|       0|       0|       0|     500|    2515|        0|          20|\n",
      "|   292|    50000|  2|        2|       2| 22|    1|   -2|   -2|   -2|   -2|   -2|     -288|     -288|     -288|     -288|     -288|     2124|       0|       0|       0|       0|    2412|       0|        0|          20|\n",
      "|   398|    50000|  2|        2|       2| 22|   -2|   -2|   -2|   -2|   -1|   -1|      412|      138|     2299|     1251|     1206|     1151|     138|    2299|    1251|    1206|    1151|   15816|        0|          20|\n",
      "|   519|    10000|  2|        2|       2| 22|    1|    2|    0|    0|    0|   -1|     1371|      796|      398|      796|      398|      716|     796|       0|     796|       0|     716|   12111|        0|          20|\n",
      "|   653|    20000|  2|        1|       2| 22|    0|    0|    0|    0|   -2|   -2|      158|        0|        0|        0|        0|      612|       0|       0|       0|       0|     612|    1863|        0|          20|\n",
      "|   664|    50000|  1|        1|       2| 22|    0|    0|    0|    0|   -1|   -1|     2000|     1000|     2125|     2125|     1000|     2125|       0|    2125|    2125|    1000|    2125|   23250|        0|          20|\n",
      "|   703|    10000|  2|        3|       2| 22|    0|    0|    0|    0|   -2|   -1|        0|        0|        0|        0|        0|      150|       0|       0|       0|       0|     300|     102|        0|          20|\n",
      "+------+---------+---+---------+--------+---+-----+-----+-----+-----+-----+-----+---------+---------+---------+---------+---------+---------+--------+--------+--------+--------+--------+--------+---------+------------+\n",
      "only showing top 20 rows\n",
      "\n"
     ]
    }
   ],
   "source": [
    "df.show()"
   ]
  },
  {
   "cell_type": "markdown",
   "id": "7d6de454",
   "metadata": {},
   "source": [
    "### 6.Normalize sex to only 1 and 2."
   ]
  },
  {
   "cell_type": "code",
   "execution_count": 30,
   "id": "b8cf3b92",
   "metadata": {
    "scrolled": false
   },
   "outputs": [
    {
     "name": "stdout",
     "output_type": "stream",
     "text": [
      "+------+---------+---+---------+--------+---+-----+-----+-----+-----+-----+-----+---------+---------+---------+---------+---------+---------+--------+--------+--------+--------+--------+--------+---------+------------+\n",
      "|CUSTID|LIMIT_BAL|SEX|EDUCATION|MARRIAGE|AGE|PAY_1|PAY_2|PAY_3|PAY_4|PAY_5|PAY_6|BILL_AMT1|BILL_AMT2|BILL_AMT3|BILL_AMT4|BILL_AMT5|BILL_AMT6|PAY_AMT1|PAY_AMT2|PAY_AMT3|PAY_AMT4|PAY_AMT5|PAY_AMT6|DEFAULTED|range_of_10s|\n",
      "+------+---------+---+---------+--------+---+-----+-----+-----+-----+-----+-----+---------+---------+---------+---------+---------+---------+--------+--------+--------+--------+--------+--------+---------+------------+\n",
      "|   530|    20000|  2|        2|       2| 21|   -1|   -1|    2|    2|   -2|   -2|        0|        0|        0|        0|        0|        0|       0|       0|       0|       0|  162000|       0|        0|          20|\n",
      "|    38|    60000|  2|        2|       2| 22|    0|    0|    0|    0|   -2|   -2|        0|        0|        0|        0|        0|        0|       0|       0|       0|       0|       0|    1576|        0|          20|\n",
      "|    43|    10000|  1|        2|       2| 22|    0|    0|    0|    0|   -2|   -2|        0|        0|        0|        0|        0|        0|       0|       0|       0|       0|       0|    1500|        0|          20|\n",
      "|    47|    20000|  2|        1|       2| 22|    0|    0|    2|   -1|    0|   -1|     1131|      291|      582|      291|        0|      291|     291|     582|       0|       0|  130291|     651|        0|          20|\n",
      "|    70|    20000|  1|        4|       2| 22|    2|    0|    0|    0|   -1|   -1|     1692|    13250|      433|     1831|        0|     2891|   13250|     433|    1831|       0|    2891|  153504|        0|          20|\n",
      "|    79|    30000|  2|        2|       2| 22|    0|    0|    0|    0|   -2|   -2|     1544|     1648|     1284|     1088|      892|     -304|    1300|    1000|    1000|    1000|     304|   39544|        0|          20|\n",
      "|    99|    50000|  2|        3|       1| 22|    0|    0|    0|    0|   -1|   -1|        0|        0|        0|        0|      166|      541|       0|       0|       0|     166|     543|    4268|        0|          20|\n",
      "|   104|    50000|  2|        3|       2| 22|    0|    0|    0|    0|   -1|   -1|      780|        0|      780|      390|      390|      500|       0|     780|       0|     390|     500|   18300|        0|          20|\n",
      "|   135|    30000|  2|        2|       2| 22|    0|    0|    0|    0|   -2|   -2|       92|       92|       92|        0|       92|        0|      92|      92|       0|      92|       0|    1883|        0|          20|\n",
      "|   170|    50000|  2|        2|       2| 22|    0|    0|    0|    0|    2|   -1|     -190|    -9850|    -9850|    10311|    10161|     7319|       0|       0|   20161|       0|    7319|   13899|        0|          20|\n",
      "+------+---------+---+---------+--------+---+-----+-----+-----+-----+-----+-----+---------+---------+---------+---------+---------+---------+--------+--------+--------+--------+--------+--------+---------+------------+\n",
      "only showing top 10 rows\n",
      "\n"
     ]
    }
   ],
   "source": [
    "df.withColumn(\"SEX\",regexp_replace(\"SEX\",'F','2')).show(10)"
   ]
  },
  {
   "cell_type": "code",
   "execution_count": 31,
   "id": "a711a3fe",
   "metadata": {},
   "outputs": [],
   "source": [
    "df = df.withColumn(\"SEX\",when(df['SEX'] == 'M','1').when(df['SEX'] == 'F','2').otherwise(df['SEX']))"
   ]
  },
  {
   "cell_type": "code",
   "execution_count": 32,
   "id": "5abfaec2",
   "metadata": {
    "scrolled": true
   },
   "outputs": [
    {
     "name": "stdout",
     "output_type": "stream",
     "text": [
      "+------+---------+---+---------+--------+---+-----+-----+-----+-----+-----+-----+---------+---------+---------+---------+---------+---------+--------+--------+--------+--------+--------+--------+---------+------------+\n",
      "|CUSTID|LIMIT_BAL|SEX|EDUCATION|MARRIAGE|AGE|PAY_1|PAY_2|PAY_3|PAY_4|PAY_5|PAY_6|BILL_AMT1|BILL_AMT2|BILL_AMT3|BILL_AMT4|BILL_AMT5|BILL_AMT6|PAY_AMT1|PAY_AMT2|PAY_AMT3|PAY_AMT4|PAY_AMT5|PAY_AMT6|DEFAULTED|range_of_10s|\n",
      "+------+---------+---+---------+--------+---+-----+-----+-----+-----+-----+-----+---------+---------+---------+---------+---------+---------+--------+--------+--------+--------+--------+--------+---------+------------+\n",
      "|   530|    20000|  2|        2|       2| 21|   -1|   -1|    2|    2|   -2|   -2|        0|        0|        0|        0|        0|        0|       0|       0|       0|       0|  162000|       0|        0|          20|\n",
      "|    38|    60000|  2|        2|       2| 22|    0|    0|    0|    0|   -2|   -2|        0|        0|        0|        0|        0|        0|       0|       0|       0|       0|       0|    1576|        0|          20|\n",
      "|    43|    10000|  1|        2|       2| 22|    0|    0|    0|    0|   -2|   -2|        0|        0|        0|        0|        0|        0|       0|       0|       0|       0|       0|    1500|        0|          20|\n",
      "|    47|    20000|  2|        1|       2| 22|    0|    0|    2|   -1|    0|   -1|     1131|      291|      582|      291|        0|      291|     291|     582|       0|       0|  130291|     651|        0|          20|\n",
      "|    70|    20000|  1|        4|       2| 22|    2|    0|    0|    0|   -1|   -1|     1692|    13250|      433|     1831|        0|     2891|   13250|     433|    1831|       0|    2891|  153504|        0|          20|\n",
      "|    79|    30000|  2|        2|       2| 22|    0|    0|    0|    0|   -2|   -2|     1544|     1648|     1284|     1088|      892|     -304|    1300|    1000|    1000|    1000|     304|   39544|        0|          20|\n",
      "|    99|    50000|  2|        3|       1| 22|    0|    0|    0|    0|   -1|   -1|        0|        0|        0|        0|      166|      541|       0|       0|       0|     166|     543|    4268|        0|          20|\n",
      "|   104|    50000|  2|        3|       2| 22|    0|    0|    0|    0|   -1|   -1|      780|        0|      780|      390|      390|      500|       0|     780|       0|     390|     500|   18300|        0|          20|\n",
      "|   135|    30000|  2|        2|       2| 22|    0|    0|    0|    0|   -2|   -2|       92|       92|       92|        0|       92|        0|      92|      92|       0|      92|       0|    1883|        0|          20|\n",
      "|   170|    50000|  2|        2|       2| 22|    0|    0|    0|    0|    2|   -1|     -190|    -9850|    -9850|    10311|    10161|     7319|       0|       0|   20161|       0|    7319|   13899|        0|          20|\n",
      "|   173|    50000|  2|        2|       2| 22|   -1|    0|    0|    0|   -1|   -1|        0|        0|      250|      123|      789|     1222|       0|     250|       0|     789|    1222|    9616|        0|          20|\n",
      "|   179|    20000|  2|        2|       2| 22|    0|    0|    0|    0|   -1|   -1|        0|        0|        0|        0|      595|        0|       0|       0|       0|     595|       0|    2370|        0|          20|\n",
      "|   198|    20000|  2|        1|       2| 22|    0|    0|    0|    0|   -2|   -1|      -54|      273|       19|     -254|     -527|     1096|     600|      19|       0|       0|    1896|       0|        0|          20|\n",
      "|   200|    30000|  2|        3|       2| 22|    1|    2|    2|    0|   -2|   -2|      -14|     2568|     -387|     -387|     -387|      113|    2582|       0|       0|       0|     500|    2515|        0|          20|\n",
      "|   292|    50000|  2|        2|       2| 22|    1|   -2|   -2|   -2|   -2|   -2|     -288|     -288|     -288|     -288|     -288|     2124|       0|       0|       0|       0|    2412|       0|        0|          20|\n",
      "|   398|    50000|  2|        2|       2| 22|   -2|   -2|   -2|   -2|   -1|   -1|      412|      138|     2299|     1251|     1206|     1151|     138|    2299|    1251|    1206|    1151|   15816|        0|          20|\n",
      "|   519|    10000|  2|        2|       2| 22|    1|    2|    0|    0|    0|   -1|     1371|      796|      398|      796|      398|      716|     796|       0|     796|       0|     716|   12111|        0|          20|\n",
      "|   653|    20000|  2|        1|       2| 22|    0|    0|    0|    0|   -2|   -2|      158|        0|        0|        0|        0|      612|       0|       0|       0|       0|     612|    1863|        0|          20|\n",
      "|   664|    50000|  1|        1|       2| 22|    0|    0|    0|    0|   -1|   -1|     2000|     1000|     2125|     2125|     1000|     2125|       0|    2125|    2125|    1000|    2125|   23250|        0|          20|\n",
      "|   703|    10000|  2|        3|       2| 22|    0|    0|    0|    0|   -2|   -1|        0|        0|        0|        0|        0|      150|       0|       0|       0|       0|     300|     102|        0|          20|\n",
      "+------+---------+---+---------+--------+---+-----+-----+-----+-----+-----+-----+---------+---------+---------+---------+---------+---------+--------+--------+--------+--------+--------+--------+---------+------------+\n",
      "only showing top 20 rows\n",
      "\n"
     ]
    }
   ],
   "source": [
    "df.show()"
   ]
  },
  {
   "cell_type": "code",
   "execution_count": 33,
   "id": "b4c315bf",
   "metadata": {},
   "outputs": [],
   "source": [
    "df1= df.replace(['M','F'],['1','2'],'AGE')"
   ]
  },
  {
   "cell_type": "code",
   "execution_count": 35,
   "id": "a6396a00",
   "metadata": {
    "scrolled": true
   },
   "outputs": [
    {
     "name": "stdout",
     "output_type": "stream",
     "text": [
      "+------+---------+---+---------+--------+---+-----+-----+-----+-----+-----+-----+---------+---------+---------+---------+---------+---------+--------+--------+--------+--------+--------+--------+---------+------------+\n",
      "|CUSTID|LIMIT_BAL|SEX|EDUCATION|MARRIAGE|AGE|PAY_1|PAY_2|PAY_3|PAY_4|PAY_5|PAY_6|BILL_AMT1|BILL_AMT2|BILL_AMT3|BILL_AMT4|BILL_AMT5|BILL_AMT6|PAY_AMT1|PAY_AMT2|PAY_AMT3|PAY_AMT4|PAY_AMT5|PAY_AMT6|DEFAULTED|range_of_10s|\n",
      "+------+---------+---+---------+--------+---+-----+-----+-----+-----+-----+-----+---------+---------+---------+---------+---------+---------+--------+--------+--------+--------+--------+--------+---------+------------+\n",
      "|   530|    20000|  2|        2|       2| 21|   -1|   -1|    2|    2|   -2|   -2|        0|        0|        0|        0|        0|        0|       0|       0|       0|       0|  162000|       0|        0|          20|\n",
      "|    38|    60000|  2|        2|       2| 22|    0|    0|    0|    0|   -2|   -2|        0|        0|        0|        0|        0|        0|       0|       0|       0|       0|       0|    1576|        0|          20|\n",
      "|    43|    10000|  1|        2|       2| 22|    0|    0|    0|    0|   -2|   -2|        0|        0|        0|        0|        0|        0|       0|       0|       0|       0|       0|    1500|        0|          20|\n",
      "|    47|    20000|  2|        1|       2| 22|    0|    0|    2|   -1|    0|   -1|     1131|      291|      582|      291|        0|      291|     291|     582|       0|       0|  130291|     651|        0|          20|\n",
      "|    70|    20000|  1|        4|       2| 22|    2|    0|    0|    0|   -1|   -1|     1692|    13250|      433|     1831|        0|     2891|   13250|     433|    1831|       0|    2891|  153504|        0|          20|\n",
      "|    79|    30000|  2|        2|       2| 22|    0|    0|    0|    0|   -2|   -2|     1544|     1648|     1284|     1088|      892|     -304|    1300|    1000|    1000|    1000|     304|   39544|        0|          20|\n",
      "|    99|    50000|  2|        3|       1| 22|    0|    0|    0|    0|   -1|   -1|        0|        0|        0|        0|      166|      541|       0|       0|       0|     166|     543|    4268|        0|          20|\n",
      "|   104|    50000|  2|        3|       2| 22|    0|    0|    0|    0|   -1|   -1|      780|        0|      780|      390|      390|      500|       0|     780|       0|     390|     500|   18300|        0|          20|\n",
      "|   135|    30000|  2|        2|       2| 22|    0|    0|    0|    0|   -2|   -2|       92|       92|       92|        0|       92|        0|      92|      92|       0|      92|       0|    1883|        0|          20|\n",
      "|   170|    50000|  2|        2|       2| 22|    0|    0|    0|    0|    2|   -1|     -190|    -9850|    -9850|    10311|    10161|     7319|       0|       0|   20161|       0|    7319|   13899|        0|          20|\n",
      "|   173|    50000|  2|        2|       2| 22|   -1|    0|    0|    0|   -1|   -1|        0|        0|      250|      123|      789|     1222|       0|     250|       0|     789|    1222|    9616|        0|          20|\n",
      "|   179|    20000|  2|        2|       2| 22|    0|    0|    0|    0|   -1|   -1|        0|        0|        0|        0|      595|        0|       0|       0|       0|     595|       0|    2370|        0|          20|\n",
      "|   198|    20000|  2|        1|       2| 22|    0|    0|    0|    0|   -2|   -1|      -54|      273|       19|     -254|     -527|     1096|     600|      19|       0|       0|    1896|       0|        0|          20|\n",
      "|   200|    30000|  2|        3|       2| 22|    1|    2|    2|    0|   -2|   -2|      -14|     2568|     -387|     -387|     -387|      113|    2582|       0|       0|       0|     500|    2515|        0|          20|\n",
      "|   292|    50000|  2|        2|       2| 22|    1|   -2|   -2|   -2|   -2|   -2|     -288|     -288|     -288|     -288|     -288|     2124|       0|       0|       0|       0|    2412|       0|        0|          20|\n",
      "|   398|    50000|  2|        2|       2| 22|   -2|   -2|   -2|   -2|   -1|   -1|      412|      138|     2299|     1251|     1206|     1151|     138|    2299|    1251|    1206|    1151|   15816|        0|          20|\n",
      "|   519|    10000|  2|        2|       2| 22|    1|    2|    0|    0|    0|   -1|     1371|      796|      398|      796|      398|      716|     796|       0|     796|       0|     716|   12111|        0|          20|\n",
      "|   653|    20000|  2|        1|       2| 22|    0|    0|    0|    0|   -2|   -2|      158|        0|        0|        0|        0|      612|       0|       0|       0|       0|     612|    1863|        0|          20|\n",
      "|   664|    50000|  1|        1|       2| 22|    0|    0|    0|    0|   -1|   -1|     2000|     1000|     2125|     2125|     1000|     2125|       0|    2125|    2125|    1000|    2125|   23250|        0|          20|\n",
      "|   703|    10000|  2|        3|       2| 22|    0|    0|    0|    0|   -2|   -1|        0|        0|        0|        0|        0|      150|       0|       0|       0|       0|     300|     102|        0|          20|\n",
      "+------+---------+---+---------+--------+---+-----+-----+-----+-----+-----+-----+---------+---------+---------+---------+---------+---------+--------+--------+--------+--------+--------+--------+---------+------------+\n",
      "only showing top 20 rows\n",
      "\n"
     ]
    }
   ],
   "source": [
    "df1.show()"
   ]
  },
  {
   "cell_type": "markdown",
   "id": "b021744c",
   "metadata": {},
   "source": [
    "### 7. average billed Amount."
   ]
  },
  {
   "cell_type": "code",
   "execution_count": 36,
   "id": "3cac3a4e",
   "metadata": {},
   "outputs": [
    {
     "name": "stdout",
     "output_type": "stream",
     "text": [
      "+---------------+\n",
      "|avg_bill_amount|\n",
      "+---------------+\n",
      "|     259790.697|\n",
      "+---------------+\n",
      "\n"
     ]
    }
   ],
   "source": [
    "df.select(avg(col(\"BILL_AMT1\")+col(\"BILL_AMT2\")+col(\"BILL_AMT3\")+col(\"BILL_AMT4\")+col(\"BILL_AMT5\")+col(\"BILL_AMT6\")).alias(\"avg_bill_amount\")).show()"
   ]
  },
  {
   "cell_type": "raw",
   "id": "c1676556",
   "metadata": {},
   "source": [
    "df.select(avg(df.BILL_AMT1+df.BILL_AMT2 + df.BILL_AMT3 + df.BILL_AMT4 + df.BILL_AMT5 + df.BILL_AMT6).alias(\"avg\")).show()"
   ]
  },
  {
   "cell_type": "code",
   "execution_count": null,
   "id": "171516ba",
   "metadata": {},
   "outputs": [],
   "source": []
  },
  {
   "cell_type": "markdown",
   "id": "a8007e6c",
   "metadata": {},
   "source": [
    "### 8. average pay amount"
   ]
  },
  {
   "cell_type": "code",
   "execution_count": 37,
   "id": "307688cf",
   "metadata": {
    "scrolled": true
   },
   "outputs": [
    {
     "name": "stdout",
     "output_type": "stream",
     "text": [
      "+--------------+\n",
      "|avg_pay_amount|\n",
      "+--------------+\n",
      "|        -1.185|\n",
      "+--------------+\n",
      "\n"
     ]
    }
   ],
   "source": [
    "df.select(avg(col(\"PAY_1\")+col(\"PAY_2\")+col(\"PAY_3\")+col(\"PAY_4\")+col(\"PAY_5\")+col(\"PAY_6\")).alias(\"avg_pay_amount\")).show()"
   ]
  },
  {
   "cell_type": "code",
   "execution_count": null,
   "id": "a288eaad",
   "metadata": {},
   "outputs": [],
   "source": []
  },
  {
   "cell_type": "markdown",
   "id": "fc244d83",
   "metadata": {},
   "source": [
    "### 9. Find average pay duration. Make sure numbers are rounded and negative values are eliminated"
   ]
  },
  {
   "cell_type": "code",
   "execution_count": 39,
   "id": "57410d0d",
   "metadata": {},
   "outputs": [],
   "source": [
    "df1 =  df.groupBy('CUSTID').agg((when((sum( col(\"PAY_1\")+col(\"PAY_2\")+col(\"PAY_3\")+col(\"PAY_4\")+col(\"PAY_5\")+col(\"PAY_6\"))/6)<0,0).otherwise((sum( col(\"PAY_1\")+col(\"PAY_2\")+col(\"PAY_3\")+col(\"PAY_4\")+col(\"PAY_5\")+col(\"PAY_6\"))/6))).alias(\"AVG_PAY_DUR\"))"
   ]
  },
  {
   "cell_type": "code",
   "execution_count": 40,
   "id": "5e855636",
   "metadata": {},
   "outputs": [
    {
     "name": "stdout",
     "output_type": "stream",
     "text": [
      "+------+------------------+\n",
      "|CUSTID|       AVG_PAY_DUR|\n",
      "+------+------------------+\n",
      "|    26|               0.5|\n",
      "|   964|               0.0|\n",
      "|   418|               0.0|\n",
      "|   191|               0.0|\n",
      "|   558|               0.0|\n",
      "|   270|               0.5|\n",
      "|   730|               0.0|\n",
      "|   705|1.1666666666666667|\n",
      "|   278|               0.0|\n",
      "|   243|               0.0|\n",
      "|   442|               0.0|\n",
      "|   965|               0.0|\n",
      "|    54|               0.0|\n",
      "|   926|               0.0|\n",
      "|   296|1.3333333333333333|\n",
      "|   348|               0.0|\n",
      "|   385|               0.0|\n",
      "|   155|               1.5|\n",
      "|   831|               0.0|\n",
      "|   588|               0.0|\n",
      "+------+------------------+\n",
      "only showing top 20 rows\n",
      "\n"
     ]
    }
   ],
   "source": [
    "df1.show()"
   ]
  },
  {
   "cell_type": "code",
   "execution_count": 41,
   "id": "fb4dd03a",
   "metadata": {},
   "outputs": [],
   "source": [
    "df = df.join(df1, \"CUSTID\" , 'inner').select(col(\"*\"))"
   ]
  },
  {
   "cell_type": "code",
   "execution_count": 42,
   "id": "49addc29",
   "metadata": {},
   "outputs": [
    {
     "name": "stdout",
     "output_type": "stream",
     "text": [
      "+------+---------+---+---------+--------+---+-----+-----+-----+-----+-----+-----+---------+---------+---------+---------+---------+---------+--------+--------+--------+--------+--------+--------+---------+------------+------------------+\n",
      "|CUSTID|LIMIT_BAL|SEX|EDUCATION|MARRIAGE|AGE|PAY_1|PAY_2|PAY_3|PAY_4|PAY_5|PAY_6|BILL_AMT1|BILL_AMT2|BILL_AMT3|BILL_AMT4|BILL_AMT5|BILL_AMT6|PAY_AMT1|PAY_AMT2|PAY_AMT3|PAY_AMT4|PAY_AMT5|PAY_AMT6|DEFAULTED|range_of_10s|       AVG_PAY_DUR|\n",
      "+------+---------+---+---------+--------+---+-----+-----+-----+-----+-----+-----+---------+---------+---------+---------+---------+---------+--------+--------+--------+--------+--------+--------+---------+------------+------------------+\n",
      "|    26|    50000|  1|        3|       2| 23|    0|    0|    3|    2|   -1|   -1|     1018|     6377|       -2|      935|     4985|     1212|    6433|       2|     937|    4990|    1215|    9546|        0|          20|               0.5|\n",
      "|   964|    30000|  1|        2|       2| 30|   -1|    0|    2|   -1|    0|    0|    88948|    79783|    80575|    92982|    98502|   103200|   30000|   10575|   15000|   10000|   10000|   20000|        1|          30|               0.0|\n",
      "|   418|    50000|  2|        1|       2| 30|    0|    0|    2|    0|    0|   -2|     4463|     3034|     1170|     1170|        0|        0|    1013|    1170|       0|       0|       0|       0|        1|          30|               0.0|\n",
      "|   191|   310000|  1|        1|       2| 32|    0|    0|    0|    0|    0|    0|    19346|    21708|    22940|    19068|    16409|    16383|    3000|    2000|    2198|    1000|    3000|    2399|        1|          30|               0.0|\n",
      "|   558|   110000|  2|        2|       2| 32|    0|    0|    0|    0|   -1|    0|   134736|   135593|   120909|   102524|    40157|    40805|    6067|   10000|    3000|   40157|    1466|    2000|        0|          30|               0.0|\n",
      "|   270|    50000|  1|        2|       2| 27|    3|    2|    2|   -2|   -1|   -1|     6160|     3274|     6190|      307|     2870|      670|    3276|    6246|     307|    2870|     670|    1362|        0|          20|               0.5|\n",
      "|   730|    60000|  1|        1|       2| 29|   -1|    2|   -1|    0|    0|    0|        0|     5396|    10270|    13576|    13864|    14636|    5396|    5000|    3500|     501|    1000|    2000|        0|          20|               0.0|\n",
      "|   705|    30000|  2|        2|       3| 22|    1|    2|    4|    3|   -1|   -2|      880|     1602|      840|      840|        0|        0|    1602|     840|     840|       0|       0|    7736|        0|          20|1.1666666666666667|\n",
      "|   278|    50000|  2|        1|       2| 26|   -1|   -1|    2|   -1|   -1|   -1|     6865|    15111|    13165|        0|    10500|     6992|   15111|   13165|       0|   10500|    6992|       0|        0|          20|               0.0|\n",
      "|   243|    50000|  2|        2|       2| 27|    0|    0|    0|    0|   -1|   -1|    12865|     4462|    19560|     8894|     5329|      998|    4484|   19623|     222|    5355|     998|    9004|        0|          20|               0.0|\n",
      "|   442|   100000|  1|        1|       2| 32|    0|    0|    0|    0|    0|    0|     2887|     1923|     2989|     2813|     2008|     2132|       0|    1500|       0|       0|     150|       0|        0|          30|               0.0|\n",
      "|   965|    50000|  1|        2|       2| 24|    0|    0|   -1|   -1|   -1|   -1|      240|      240|      240|      240|      240|      240|     240|     240|     240|     240|     240|     240|        0|          20|               0.0|\n",
      "|    54|   180000|  2|        1|       2| 25|    1|    2|   -2|   -2|   -2|   -2|        0|      780|        0|        0|        0|        0|     780|       0|       0|       0|       0|       0|        1|          20|               0.0|\n",
      "|   926|   180000|  1|        1|       2| 27|   -2|   -1|   -1|   -1|   -1|   -1|      819|     3003|     1677|     1177|     1313|     1085|    2184|       5|    1180|    1316|    1088|       0|        0|          20|               0.0|\n",
      "|   296|   200000|  1|        1|       2| 31|    0|    0|    0|    0|    2|    6|    20035|    21406|    24735|    24050|    43317|    44059|    2000|    4000|       0|   20000|    2000|       0|        1|          30|1.3333333333333333|\n",
      "|   348|    50000|  2|        2|       2| 29|    0|    0|    0|    0|    0|   -1|    11876|      380|      601|      221|     -159|      567|     380|     601|       0|     581|    1687|    1542|        1|          20|               0.0|\n",
      "|   385|    80000|  1|        2|       2| 25|    0|    0|    0|    0|   -2|   -2|     6093|    15130|     8204|    15398|     4792|    13453|   15383|    8204|   15413|    4792|   13453|    4699|        0|          20|               0.0|\n",
      "|   155|    30000|  2|        3|       2| 26|    0|    0|    6|    5|   -1|   -1|    49657|      291|    51058|     2351|    34039|      291|     291|   51058|   35696|   34039|     291|     291|        0|          20|               1.5|\n",
      "|   831|   320000|  1|        1|       2| 28|   -1|    0|    0|    0|   -1|    0|    20807|    99860|   100000|     3015|    23473|     1448|   80000|    3000|    3015|   23473|    1148|    4900|        0|          20|               0.0|\n",
      "|   588|   210000|  1|        3|       2| 25|   -1|   -1|   -2|   -2|   -1|   -1|      390|      390|      390|     4825|     5202|      780|     390|     390|    4825|    5202|     780|       0|        0|          20|               0.0|\n",
      "+------+---------+---+---------+--------+---+-----+-----+-----+-----+-----+-----+---------+---------+---------+---------+---------+---------+--------+--------+--------+--------+--------+--------+---------+------------+------------------+\n",
      "only showing top 20 rows\n",
      "\n"
     ]
    }
   ],
   "source": [
    "df.show()"
   ]
  },
  {
   "cell_type": "markdown",
   "id": "99770443",
   "metadata": {},
   "source": [
    "### 10. Add SEXNAME to the data using SQL Joins."
   ]
  },
  {
   "cell_type": "code",
   "execution_count": 43,
   "id": "f9adbc43",
   "metadata": {},
   "outputs": [],
   "source": [
    "sex_name = sc.parallelize([['1','Male'], ['2', \"Female\"]])"
   ]
  },
  {
   "cell_type": "code",
   "execution_count": 44,
   "id": "ff42b571",
   "metadata": {},
   "outputs": [
    {
     "data": {
      "text/plain": [
       "[['1', 'Male'], ['2', 'Female']]"
      ]
     },
     "execution_count": 44,
     "metadata": {},
     "output_type": "execute_result"
    }
   ],
   "source": [
    "sex_name.collect()"
   ]
  },
  {
   "cell_type": "code",
   "execution_count": 45,
   "id": "1ba4ffb9",
   "metadata": {},
   "outputs": [],
   "source": [
    "sex_name_df = sex_name.toDF([\"Id\",\"SEX_NAME\"])"
   ]
  },
  {
   "cell_type": "code",
   "execution_count": 46,
   "id": "2d35591d",
   "metadata": {},
   "outputs": [
    {
     "name": "stdout",
     "output_type": "stream",
     "text": [
      "+---+--------+\n",
      "| Id|SEX_NAME|\n",
      "+---+--------+\n",
      "|  1|    Male|\n",
      "|  2|  Female|\n",
      "+---+--------+\n",
      "\n"
     ]
    }
   ],
   "source": [
    "sex_name_df.show()"
   ]
  },
  {
   "cell_type": "code",
   "execution_count": 47,
   "id": "67abdb65",
   "metadata": {
    "scrolled": false
   },
   "outputs": [],
   "source": [
    "df1 = df.join(sex_name_df,df.SEX == sex_name_df.Id ,'inner').select(\"*\")"
   ]
  },
  {
   "cell_type": "code",
   "execution_count": 48,
   "id": "6c4e07e9",
   "metadata": {},
   "outputs": [
    {
     "name": "stdout",
     "output_type": "stream",
     "text": [
      "+------+---------+---+---------+--------+---+-----+-----+-----+-----+-----+-----+---------+---------+---------+---------+---------+---------+--------+--------+--------+--------+--------+--------+---------+------------+-----------+---+--------+\n",
      "|CUSTID|LIMIT_BAL|SEX|EDUCATION|MARRIAGE|AGE|PAY_1|PAY_2|PAY_3|PAY_4|PAY_5|PAY_6|BILL_AMT1|BILL_AMT2|BILL_AMT3|BILL_AMT4|BILL_AMT5|BILL_AMT6|PAY_AMT1|PAY_AMT2|PAY_AMT3|PAY_AMT4|PAY_AMT5|PAY_AMT6|DEFAULTED|range_of_10s|AVG_PAY_DUR| Id|SEX_NAME|\n",
      "+------+---------+---+---------+--------+---+-----+-----+-----+-----+-----+-----+---------+---------+---------+---------+---------+---------+--------+--------+--------+--------+--------+--------+---------+------------+-----------+---+--------+\n",
      "|    26|    50000|  1|        3|       2| 23|    0|    0|    3|    2|   -1|   -1|     1018|     6377|       -2|      935|     4985|     1212|    6433|       2|     937|    4990|    1215|    9546|        0|          20|        0.5|  1|    Male|\n",
      "|   964|    30000|  1|        2|       2| 30|   -1|    0|    2|   -1|    0|    0|    88948|    79783|    80575|    92982|    98502|   103200|   30000|   10575|   15000|   10000|   10000|   20000|        1|          30|        0.0|  1|    Male|\n",
      "|   191|   310000|  1|        1|       2| 32|    0|    0|    0|    0|    0|    0|    19346|    21708|    22940|    19068|    16409|    16383|    3000|    2000|    2198|    1000|    3000|    2399|        1|          30|        0.0|  1|    Male|\n",
      "|   270|    50000|  1|        2|       2| 27|    3|    2|    2|   -2|   -1|   -1|     6160|     3274|     6190|      307|     2870|      670|    3276|    6246|     307|    2870|     670|    1362|        0|          20|        0.5|  1|    Male|\n",
      "|   730|    60000|  1|        1|       2| 29|   -1|    2|   -1|    0|    0|    0|        0|     5396|    10270|    13576|    13864|    14636|    5396|    5000|    3500|     501|    1000|    2000|        0|          20|        0.0|  1|    Male|\n",
      "+------+---------+---+---------+--------+---+-----+-----+-----+-----+-----+-----+---------+---------+---------+---------+---------+---------+--------+--------+--------+--------+--------+--------+---------+------------+-----------+---+--------+\n",
      "only showing top 5 rows\n",
      "\n"
     ]
    }
   ],
   "source": [
    "df1.show(5)"
   ]
  },
  {
   "cell_type": "code",
   "execution_count": null,
   "id": "867070a1",
   "metadata": {},
   "outputs": [],
   "source": []
  },
  {
   "cell_type": "markdown",
   "id": "a6322fe0",
   "metadata": {},
   "source": [
    "## Converting DataFrame to RDD"
   ]
  },
  {
   "cell_type": "code",
   "execution_count": 49,
   "id": "9f78d2a0",
   "metadata": {},
   "outputs": [],
   "source": [
    "rdd = df1.rdd.map(list)"
   ]
  },
  {
   "cell_type": "code",
   "execution_count": 50,
   "id": "bfffd1c8",
   "metadata": {},
   "outputs": [
    {
     "data": {
      "text/plain": [
       "PythonRDD[104] at RDD at PythonRDD.scala:53"
      ]
     },
     "execution_count": 50,
     "metadata": {},
     "output_type": "execute_result"
    }
   ],
   "source": [
    "rdd"
   ]
  },
  {
   "cell_type": "code",
   "execution_count": 51,
   "id": "9a18b495",
   "metadata": {},
   "outputs": [
    {
     "data": {
      "text/plain": [
       "[[26,\n",
       "  50000,\n",
       "  '1',\n",
       "  3,\n",
       "  2,\n",
       "  23,\n",
       "  0,\n",
       "  0,\n",
       "  3,\n",
       "  2,\n",
       "  -1,\n",
       "  -1,\n",
       "  1018,\n",
       "  6377,\n",
       "  -2,\n",
       "  935,\n",
       "  4985,\n",
       "  1212,\n",
       "  6433,\n",
       "  2,\n",
       "  937,\n",
       "  4990,\n",
       "  1215,\n",
       "  9546,\n",
       "  0,\n",
       "  20,\n",
       "  0.5,\n",
       "  '1',\n",
       "  'Male'],\n",
       " [964,\n",
       "  30000,\n",
       "  '1',\n",
       "  2,\n",
       "  2,\n",
       "  30,\n",
       "  -1,\n",
       "  0,\n",
       "  2,\n",
       "  -1,\n",
       "  0,\n",
       "  0,\n",
       "  88948,\n",
       "  79783,\n",
       "  80575,\n",
       "  92982,\n",
       "  98502,\n",
       "  103200,\n",
       "  30000,\n",
       "  10575,\n",
       "  15000,\n",
       "  10000,\n",
       "  10000,\n",
       "  20000,\n",
       "  1,\n",
       "  30,\n",
       "  0.0,\n",
       "  '1',\n",
       "  'Male'],\n",
       " [191,\n",
       "  310000,\n",
       "  '1',\n",
       "  1,\n",
       "  2,\n",
       "  32,\n",
       "  0,\n",
       "  0,\n",
       "  0,\n",
       "  0,\n",
       "  0,\n",
       "  0,\n",
       "  19346,\n",
       "  21708,\n",
       "  22940,\n",
       "  19068,\n",
       "  16409,\n",
       "  16383,\n",
       "  3000,\n",
       "  2000,\n",
       "  2198,\n",
       "  1000,\n",
       "  3000,\n",
       "  2399,\n",
       "  1,\n",
       "  30,\n",
       "  0.0,\n",
       "  '1',\n",
       "  'Male'],\n",
       " [270,\n",
       "  50000,\n",
       "  '1',\n",
       "  2,\n",
       "  2,\n",
       "  27,\n",
       "  3,\n",
       "  2,\n",
       "  2,\n",
       "  -2,\n",
       "  -1,\n",
       "  -1,\n",
       "  6160,\n",
       "  3274,\n",
       "  6190,\n",
       "  307,\n",
       "  2870,\n",
       "  670,\n",
       "  3276,\n",
       "  6246,\n",
       "  307,\n",
       "  2870,\n",
       "  670,\n",
       "  1362,\n",
       "  0,\n",
       "  20,\n",
       "  0.5,\n",
       "  '1',\n",
       "  'Male'],\n",
       " [730,\n",
       "  60000,\n",
       "  '1',\n",
       "  1,\n",
       "  2,\n",
       "  29,\n",
       "  -1,\n",
       "  2,\n",
       "  -1,\n",
       "  0,\n",
       "  0,\n",
       "  0,\n",
       "  0,\n",
       "  5396,\n",
       "  10270,\n",
       "  13576,\n",
       "  13864,\n",
       "  14636,\n",
       "  5396,\n",
       "  5000,\n",
       "  3500,\n",
       "  501,\n",
       "  1000,\n",
       "  2000,\n",
       "  0,\n",
       "  20,\n",
       "  0.0,\n",
       "  '1',\n",
       "  'Male']]"
      ]
     },
     "execution_count": 51,
     "metadata": {},
     "output_type": "execute_result"
    }
   ],
   "source": [
    "rdd.take(5)"
   ]
  },
  {
   "cell_type": "code",
   "execution_count": 52,
   "id": "bcf05273",
   "metadata": {},
   "outputs": [
    {
     "data": {
      "text/plain": [
       "[Row(CUSTID=26, LIMIT_BAL=50000, SEX='1', EDUCATION=3, MARRIAGE=2, AGE=23, PAY_1=0, PAY_2=0, PAY_3=3, PAY_4=2, PAY_5=-1, PAY_6=-1, BILL_AMT1=1018, BILL_AMT2=6377, BILL_AMT3=-2, BILL_AMT4=935, BILL_AMT5=4985, BILL_AMT6=1212, PAY_AMT1=6433, PAY_AMT2=2, PAY_AMT3=937, PAY_AMT4=4990, PAY_AMT5=1215, PAY_AMT6=9546, DEFAULTED=0, range_of_10s=20, AVG_PAY_DUR=0.5, Id='1', SEX_NAME='Male'),\n",
       " Row(CUSTID=964, LIMIT_BAL=30000, SEX='1', EDUCATION=2, MARRIAGE=2, AGE=30, PAY_1=-1, PAY_2=0, PAY_3=2, PAY_4=-1, PAY_5=0, PAY_6=0, BILL_AMT1=88948, BILL_AMT2=79783, BILL_AMT3=80575, BILL_AMT4=92982, BILL_AMT5=98502, BILL_AMT6=103200, PAY_AMT1=30000, PAY_AMT2=10575, PAY_AMT3=15000, PAY_AMT4=10000, PAY_AMT5=10000, PAY_AMT6=20000, DEFAULTED=1, range_of_10s=30, AVG_PAY_DUR=0.0, Id='1', SEX_NAME='Male'),\n",
       " Row(CUSTID=191, LIMIT_BAL=310000, SEX='1', EDUCATION=1, MARRIAGE=2, AGE=32, PAY_1=0, PAY_2=0, PAY_3=0, PAY_4=0, PAY_5=0, PAY_6=0, BILL_AMT1=19346, BILL_AMT2=21708, BILL_AMT3=22940, BILL_AMT4=19068, BILL_AMT5=16409, BILL_AMT6=16383, PAY_AMT1=3000, PAY_AMT2=2000, PAY_AMT3=2198, PAY_AMT4=1000, PAY_AMT5=3000, PAY_AMT6=2399, DEFAULTED=1, range_of_10s=30, AVG_PAY_DUR=0.0, Id='1', SEX_NAME='Male'),\n",
       " Row(CUSTID=270, LIMIT_BAL=50000, SEX='1', EDUCATION=2, MARRIAGE=2, AGE=27, PAY_1=3, PAY_2=2, PAY_3=2, PAY_4=-2, PAY_5=-1, PAY_6=-1, BILL_AMT1=6160, BILL_AMT2=3274, BILL_AMT3=6190, BILL_AMT4=307, BILL_AMT5=2870, BILL_AMT6=670, PAY_AMT1=3276, PAY_AMT2=6246, PAY_AMT3=307, PAY_AMT4=2870, PAY_AMT5=670, PAY_AMT6=1362, DEFAULTED=0, range_of_10s=20, AVG_PAY_DUR=0.5, Id='1', SEX_NAME='Male'),\n",
       " Row(CUSTID=730, LIMIT_BAL=60000, SEX='1', EDUCATION=1, MARRIAGE=2, AGE=29, PAY_1=-1, PAY_2=2, PAY_3=-1, PAY_4=0, PAY_5=0, PAY_6=0, BILL_AMT1=0, BILL_AMT2=5396, BILL_AMT3=10270, BILL_AMT4=13576, BILL_AMT5=13864, BILL_AMT6=14636, PAY_AMT1=5396, PAY_AMT2=5000, PAY_AMT3=3500, PAY_AMT4=501, PAY_AMT5=1000, PAY_AMT6=2000, DEFAULTED=0, range_of_10s=20, AVG_PAY_DUR=0.0, Id='1', SEX_NAME='Male')]"
      ]
     },
     "execution_count": 52,
     "metadata": {},
     "output_type": "execute_result"
    }
   ],
   "source": [
    "df1.take(5)"
   ]
  },
  {
   "cell_type": "code",
   "execution_count": null,
   "id": "3e7c9649",
   "metadata": {},
   "outputs": [],
   "source": []
  },
  {
   "cell_type": "markdown",
   "id": "be14459c",
   "metadata": {},
   "source": [
    "### 11. "
   ]
  },
  {
   "cell_type": "code",
   "execution_count": 53,
   "id": "6f27d44f",
   "metadata": {},
   "outputs": [],
   "source": [
    "# creating temporary table for sql querry\n",
    "df1.createOrReplaceTempView(\"CCDATA\")"
   ]
  },
  {
   "cell_type": "code",
   "execution_count": 54,
   "id": "a3b7c46d",
   "metadata": {},
   "outputs": [
    {
     "name": "stdout",
     "output_type": "stream",
     "text": [
      "+--------+-----+--------+-----------+\n",
      "|SEX_NAME|Total|Defaults|PER_DEFAULT|\n",
      "+--------+-----+--------+-----------+\n",
      "|  Female|  591|     218|       37.0|\n",
      "|    Male|  409|     185|       45.0|\n",
      "+--------+-----+--------+-----------+\n",
      "\n"
     ]
    }
   ],
   "source": [
    "spark.sql(\"SELECT SEX_NAME,count(*) as Total,SUM(DEFAULTED) as Defaults,  ROUND(SUM(DEFAULTED)*100/count(*)) as PER_DEFAULT FROM CCDATA GROUP BY SEX_NAME\").show()"
   ]
  },
  {
   "cell_type": "code",
   "execution_count": 55,
   "id": "a6bc4523",
   "metadata": {},
   "outputs": [
    {
     "name": "stdout",
     "output_type": "stream",
     "text": [
      "+------+---------+---+---------+--------+---+-----+-----+-----+-----+-----+-----+---------+---------+---------+---------+---------+---------+--------+--------+--------+--------+--------+--------+---------+------------+-----------+---+--------+\n",
      "|CUSTID|LIMIT_BAL|SEX|EDUCATION|MARRIAGE|AGE|PAY_1|PAY_2|PAY_3|PAY_4|PAY_5|PAY_6|BILL_AMT1|BILL_AMT2|BILL_AMT3|BILL_AMT4|BILL_AMT5|BILL_AMT6|PAY_AMT1|PAY_AMT2|PAY_AMT3|PAY_AMT4|PAY_AMT5|PAY_AMT6|DEFAULTED|range_of_10s|AVG_PAY_DUR| Id|SEX_NAME|\n",
      "+------+---------+---+---------+--------+---+-----+-----+-----+-----+-----+-----+---------+---------+---------+---------+---------+---------+--------+--------+--------+--------+--------+--------+---------+------------+-----------+---+--------+\n",
      "|    26|    50000|  1|        3|       2| 23|    0|    0|    3|    2|   -1|   -1|     1018|     6377|       -2|      935|     4985|     1212|    6433|       2|     937|    4990|    1215|    9546|        0|          20|        0.5|  1|    Male|\n",
      "+------+---------+---+---------+--------+---+-----+-----+-----+-----+-----+-----+---------+---------+---------+---------+---------+---------+--------+--------+--------+--------+--------+--------+---------+------------+-----------+---+--------+\n",
      "only showing top 1 row\n",
      "\n"
     ]
    }
   ],
   "source": [
    "df1.show(1)"
   ]
  },
  {
   "cell_type": "code",
   "execution_count": 56,
   "id": "57e6363f",
   "metadata": {},
   "outputs": [
    {
     "data": {
      "text/plain": [
       "PythonRDD[166] at RDD at PythonRDD.scala:53"
      ]
     },
     "execution_count": 56,
     "metadata": {},
     "output_type": "execute_result"
    }
   ],
   "source": [
    "x = rdd.map(lambda x:(x[-1],(1,x[-5])) )\n",
    "x"
   ]
  },
  {
   "cell_type": "code",
   "execution_count": 57,
   "id": "298a887b",
   "metadata": {},
   "outputs": [
    {
     "data": {
      "text/plain": [
       "[('Male', (1, 0)),\n",
       " ('Male', (1, 1)),\n",
       " ('Male', (1, 1)),\n",
       " ('Male', (1, 0)),\n",
       " ('Male', (1, 0))]"
      ]
     },
     "execution_count": 57,
     "metadata": {},
     "output_type": "execute_result"
    }
   ],
   "source": [
    "x.take(5)"
   ]
  },
  {
   "cell_type": "code",
   "execution_count": 58,
   "id": "40323c93",
   "metadata": {},
   "outputs": [
    {
     "data": {
      "text/plain": [
       "[('Male', (409, 185)), ('Female', (591, 218))]"
      ]
     },
     "execution_count": 58,
     "metadata": {},
     "output_type": "execute_result"
    }
   ],
   "source": [
    "x = x.reduceByKey(lambda x, y: ( (x[0] + y[0],x[1] + y[1]) ))\n",
    "x.take(5)"
   ]
  },
  {
   "cell_type": "code",
   "execution_count": 59,
   "id": "a4e6d894",
   "metadata": {
    "scrolled": true
   },
   "outputs": [
    {
     "data": {
      "text/plain": [
       "[('Male', 409, 185, 45.2322738386308), ('Female', 591, 218, 36.88663282571912)]"
      ]
     },
     "execution_count": 59,
     "metadata": {},
     "output_type": "execute_result"
    }
   ],
   "source": [
    "x = x.map(lambda x:(x[0], x[1][0], x[1][1] , ( x[1][1]/x[1][0]*100 )))\n",
    "x.collect()"
   ]
  },
  {
   "cell_type": "code",
   "execution_count": 60,
   "id": "0bbcaa40",
   "metadata": {},
   "outputs": [
    {
     "name": "stdout",
     "output_type": "stream",
     "text": [
      "+--------+-----+--------+-----------------+\n",
      "|SEX_NAME|Total|Defaults|      PER_DEFAULT|\n",
      "+--------+-----+--------+-----------------+\n",
      "|  Female|  591|     218|36.88663282571912|\n",
      "|    Male|  409|     185| 45.2322738386308|\n",
      "+--------+-----+--------+-----------------+\n",
      "\n"
     ]
    }
   ],
   "source": [
    "xx = x.toDF(['SEX_NAME','Total','Defaults','PER_DEFAULT']).sort(['SEX_NAME'])\n",
    "xx.show()"
   ]
  },
  {
   "cell_type": "code",
   "execution_count": 61,
   "id": "0b849f12",
   "metadata": {},
   "outputs": [],
   "source": [
    "xx.createOrReplaceTempView(\"xx\")"
   ]
  },
  {
   "cell_type": "code",
   "execution_count": 62,
   "id": "7fb345a1",
   "metadata": {},
   "outputs": [
    {
     "name": "stdout",
     "output_type": "stream",
     "text": [
      "+--------+-----+--------+-----------+\n",
      "|SEX_NAME|Total|Defaults|PER_DEFAULT|\n",
      "+--------+-----+--------+-----------+\n",
      "|  Female|  591|     218|       37.0|\n",
      "|    Male|  409|     185|       45.0|\n",
      "+--------+-----+--------+-----------+\n",
      "\n"
     ]
    }
   ],
   "source": [
    "spark.sql(\"select SEX_NAME, Total, Defaults, round(PER_DEFAULT) as PER_DEFAULT from xx\").show()"
   ]
  },
  {
   "cell_type": "code",
   "execution_count": null,
   "id": "b2574157",
   "metadata": {},
   "outputs": [],
   "source": []
  },
  {
   "cell_type": "code",
   "execution_count": null,
   "id": "1ef3f392",
   "metadata": {},
   "outputs": [],
   "source": []
  },
  {
   "cell_type": "markdown",
   "id": "702f320d",
   "metadata": {},
   "source": [
    "### 12. "
   ]
  },
  {
   "cell_type": "code",
   "execution_count": 63,
   "id": "be38430f",
   "metadata": {},
   "outputs": [
    {
     "name": "stdout",
     "output_type": "stream",
     "text": [
      "+--------+---------+-----+--------+-----------+\n",
      "|MARRIAGE|EDUCATION|Total|Defaults|PER_DEFAULT|\n",
      "+--------+---------+-----+--------+-----------+\n",
      "|       1|        1|  123|      71|       58.0|\n",
      "|       1|        2|  198|     105|       53.0|\n",
      "|       1|        3|   87|      52|       60.0|\n",
      "|       1|        4|    3|       2|       67.0|\n",
      "|       2|        1|  268|      69|       26.0|\n",
      "|       2|        2|  243|      65|       27.0|\n",
      "|       2|        3|   55|      24|       44.0|\n",
      "|       2|        4|    4|       2|       50.0|\n",
      "|       3|        1|    4|       4|      100.0|\n",
      "|       3|        2|    7|       3|       43.0|\n",
      "|       3|        3|    8|       6|       75.0|\n",
      "+--------+---------+-----+--------+-----------+\n",
      "\n"
     ]
    }
   ],
   "source": [
    "spark.sql(\"SELECT MARRIAGE, EDUCATION, count(*) as Total, SUM(DEFAULTED) as Defaults, ROUND(SUM(DEFAULTED) * 100 / count(*)) as PER_DEFAULT FROM CCDATA GROUP BY MARRIAGE,EDUCATION ORDER BY 1,2\").show()"
   ]
  },
  {
   "cell_type": "code",
   "execution_count": 64,
   "id": "230d7dcb",
   "metadata": {},
   "outputs": [
    {
     "name": "stdout",
     "output_type": "stream",
     "text": [
      "+------+---------+---+---------+--------+---+-----+-----+-----+-----+-----+-----+---------+---------+---------+---------+---------+---------+--------+--------+--------+--------+--------+--------+---------+------------+-----------+---+--------+\n",
      "|CUSTID|LIMIT_BAL|SEX|EDUCATION|MARRIAGE|AGE|PAY_1|PAY_2|PAY_3|PAY_4|PAY_5|PAY_6|BILL_AMT1|BILL_AMT2|BILL_AMT3|BILL_AMT4|BILL_AMT5|BILL_AMT6|PAY_AMT1|PAY_AMT2|PAY_AMT3|PAY_AMT4|PAY_AMT5|PAY_AMT6|DEFAULTED|range_of_10s|AVG_PAY_DUR| Id|SEX_NAME|\n",
      "+------+---------+---+---------+--------+---+-----+-----+-----+-----+-----+-----+---------+---------+---------+---------+---------+---------+--------+--------+--------+--------+--------+--------+---------+------------+-----------+---+--------+\n",
      "|    26|    50000|  1|        3|       2| 23|    0|    0|    3|    2|   -1|   -1|     1018|     6377|       -2|      935|     4985|     1212|    6433|       2|     937|    4990|    1215|    9546|        0|          20|        0.5|  1|    Male|\n",
      "+------+---------+---+---------+--------+---+-----+-----+-----+-----+-----+-----+---------+---------+---------+---------+---------+---------+--------+--------+--------+--------+--------+--------+---------+------------+-----------+---+--------+\n",
      "only showing top 1 row\n",
      "\n"
     ]
    }
   ],
   "source": [
    "df1.show(1)"
   ]
  },
  {
   "cell_type": "code",
   "execution_count": 65,
   "id": "834189fe",
   "metadata": {},
   "outputs": [
    {
     "data": {
      "text/plain": [
       "[((2, 3), (1, 0)),\n",
       " ((2, 2), (1, 1)),\n",
       " ((2, 1), (1, 1)),\n",
       " ((2, 2), (1, 0)),\n",
       " ((2, 1), (1, 0))]"
      ]
     },
     "execution_count": 65,
     "metadata": {},
     "output_type": "execute_result"
    }
   ],
   "source": [
    "x1 = rdd.map(lambda x:((x[4],x[3]), (1, x[-5])))\n",
    "x1.take(5)"
   ]
  },
  {
   "cell_type": "code",
   "execution_count": 66,
   "id": "9dfaf209",
   "metadata": {},
   "outputs": [
    {
     "data": {
      "text/plain": [
       "[((2, 3), (55, 24)),\n",
       " ((2, 2), (243, 65)),\n",
       " ((2, 1), (268, 69)),\n",
       " ((1, 2), (198, 105)),\n",
       " ((3, 2), (7, 3)),\n",
       " ((1, 3), (87, 52)),\n",
       " ((1, 1), (123, 71)),\n",
       " ((2, 4), (4, 2)),\n",
       " ((3, 1), (4, 4)),\n",
       " ((1, 4), (3, 2)),\n",
       " ((3, 3), (8, 6))]"
      ]
     },
     "execution_count": 66,
     "metadata": {},
     "output_type": "execute_result"
    }
   ],
   "source": [
    "x1 = x1.reduceByKey(lambda x,y: (x[0] + y[0], x[1] + y[1]) )\n",
    "x1.collect()"
   ]
  },
  {
   "cell_type": "code",
   "execution_count": 67,
   "id": "80da1a01",
   "metadata": {},
   "outputs": [
    {
     "data": {
      "text/plain": [
       "[(2, 3, 55, 24, 43.63636363636363),\n",
       " (2, 2, 243, 65, 26.74897119341564),\n",
       " (2, 1, 268, 69, 25.74626865671642),\n",
       " (1, 2, 198, 105, 53.03030303030303),\n",
       " (3, 2, 7, 3, 42.857142857142854),\n",
       " (1, 3, 87, 52, 59.77011494252874),\n",
       " (1, 1, 123, 71, 57.72357723577236),\n",
       " (2, 4, 4, 2, 50.0),\n",
       " (3, 1, 4, 4, 100.0),\n",
       " (1, 4, 3, 2, 66.66666666666666),\n",
       " (3, 3, 8, 6, 75.0)]"
      ]
     },
     "execution_count": 67,
     "metadata": {},
     "output_type": "execute_result"
    }
   ],
   "source": [
    "# ( (2, 3), (55, 24) )\n",
    "x1 = x1.map(lambda x:( x[0][0],x[0][1] , x[1][0] , x[1][1] , (x[1][1]/x[1][0]*100) ))\n",
    "x1.collect()"
   ]
  },
  {
   "cell_type": "code",
   "execution_count": 68,
   "id": "ac196612",
   "metadata": {},
   "outputs": [
    {
     "name": "stdout",
     "output_type": "stream",
     "text": [
      "+--------+---------+-----+--------+------------------+\n",
      "|MARRIAGE|EDUCATION|Total|Defaults|       PER_DEFAULT|\n",
      "+--------+---------+-----+--------+------------------+\n",
      "|       1|        1|  123|      71| 57.72357723577236|\n",
      "|       1|        2|  198|     105| 53.03030303030303|\n",
      "|       1|        3|   87|      52| 59.77011494252874|\n",
      "|       1|        4|    3|       2| 66.66666666666666|\n",
      "|       2|        1|  268|      69| 25.74626865671642|\n",
      "|       2|        2|  243|      65| 26.74897119341564|\n",
      "|       2|        3|   55|      24| 43.63636363636363|\n",
      "|       2|        4|    4|       2|              50.0|\n",
      "|       3|        1|    4|       4|             100.0|\n",
      "|       3|        2|    7|       3|42.857142857142854|\n",
      "|       3|        3|    8|       6|              75.0|\n",
      "+--------+---------+-----+--------+------------------+\n",
      "\n"
     ]
    }
   ],
   "source": [
    "xx1 = x1.toDF(['MARRIAGE','EDUCATION','Total','Defaults','PER_DEFAULT']).sort(['MARRIAGE','EDUCATION'])\n",
    "xx1.show()"
   ]
  },
  {
   "cell_type": "code",
   "execution_count": 69,
   "id": "491f0aed",
   "metadata": {},
   "outputs": [],
   "source": [
    "xx1.createOrReplaceTempView(\"xx1\")"
   ]
  },
  {
   "cell_type": "code",
   "execution_count": 70,
   "id": "67e2b660",
   "metadata": {},
   "outputs": [
    {
     "name": "stdout",
     "output_type": "stream",
     "text": [
      "+--------+---------+-----+-----------+\n",
      "|MARRIAGE|EDUCATION|Total|PER_DEFAULT|\n",
      "+--------+---------+-----+-----------+\n",
      "|       1|        1|  123|       58.0|\n",
      "|       1|        2|  198|       53.0|\n",
      "|       1|        3|   87|       60.0|\n",
      "|       1|        4|    3|       67.0|\n",
      "|       2|        1|  268|       26.0|\n",
      "|       2|        2|  243|       27.0|\n",
      "|       2|        3|   55|       44.0|\n",
      "|       2|        4|    4|       50.0|\n",
      "|       3|        1|    4|      100.0|\n",
      "|       3|        2|    7|       43.0|\n",
      "|       3|        3|    8|       75.0|\n",
      "+--------+---------+-----+-----------+\n",
      "\n"
     ]
    }
   ],
   "source": [
    "spark.sql(\"select MARRIAGE, EDUCATION, Total, round(PER_DEFAULT) as PER_DEFAULT from xx1\").show()"
   ]
  },
  {
   "cell_type": "code",
   "execution_count": null,
   "id": "21245a36",
   "metadata": {},
   "outputs": [],
   "source": []
  },
  {
   "cell_type": "markdown",
   "id": "cb618fcd",
   "metadata": {},
   "source": [
    "### 13. "
   ]
  },
  {
   "cell_type": "code",
   "execution_count": 71,
   "id": "0a202642",
   "metadata": {},
   "outputs": [
    {
     "name": "stdout",
     "output_type": "stream",
     "text": [
      "+-------------------+-----+--------+-----------+\n",
      "|        AVG_PAY_DUR|Total|Defaults|PER_DEFAULT|\n",
      "+-------------------+-----+--------+-----------+\n",
      "|                0.0|  751|     281|       37.0|\n",
      "|0.16666666666666666|   36|      17|       47.0|\n",
      "| 0.3333333333333333|   70|      31|       44.0|\n",
      "|                0.5|   37|      20|       54.0|\n",
      "| 0.6666666666666666|   37|      18|       49.0|\n",
      "| 0.8333333333333334|   20|      10|       50.0|\n",
      "|                1.0|   14|       7|       50.0|\n",
      "| 1.1666666666666667|   11|       6|       55.0|\n",
      "| 1.3333333333333333|    8|       5|       63.0|\n",
      "|                1.5|    5|       2|       40.0|\n",
      "| 1.6666666666666667|    2|       2|      100.0|\n",
      "| 1.8333333333333333|    3|       2|       67.0|\n",
      "|                2.0|    1|       0|        0.0|\n",
      "| 2.1666666666666665|    2|       0|        0.0|\n",
      "| 2.3333333333333335|    1|       0|        0.0|\n",
      "|                2.5|    1|       1|      100.0|\n",
      "|                3.0|    1|       1|      100.0|\n",
      "+-------------------+-----+--------+-----------+\n",
      "\n"
     ]
    }
   ],
   "source": [
    "spark.sql(\"SELECT AVG_PAY_DUR, count(*) as Total, SUM(DEFAULTED) as Defaults, ROUND(SUM(DEFAULTED) * 100 / count(*)) as PER_DEFAULT FROM CCDATA GROUP BY AVG_PAY_DUR ORDER BY 1\").show()"
   ]
  },
  {
   "cell_type": "code",
   "execution_count": 72,
   "id": "4d335b70",
   "metadata": {},
   "outputs": [
    {
     "name": "stdout",
     "output_type": "stream",
     "text": [
      "+------+---------+---+---------+--------+---+-----+-----+-----+-----+-----+-----+---------+---------+---------+---------+---------+---------+--------+--------+--------+--------+--------+--------+---------+------------+-----------+---+--------+\n",
      "|CUSTID|LIMIT_BAL|SEX|EDUCATION|MARRIAGE|AGE|PAY_1|PAY_2|PAY_3|PAY_4|PAY_5|PAY_6|BILL_AMT1|BILL_AMT2|BILL_AMT3|BILL_AMT4|BILL_AMT5|BILL_AMT6|PAY_AMT1|PAY_AMT2|PAY_AMT3|PAY_AMT4|PAY_AMT5|PAY_AMT6|DEFAULTED|range_of_10s|AVG_PAY_DUR| Id|SEX_NAME|\n",
      "+------+---------+---+---------+--------+---+-----+-----+-----+-----+-----+-----+---------+---------+---------+---------+---------+---------+--------+--------+--------+--------+--------+--------+---------+------------+-----------+---+--------+\n",
      "|    26|    50000|  1|        3|       2| 23|    0|    0|    3|    2|   -1|   -1|     1018|     6377|       -2|      935|     4985|     1212|    6433|       2|     937|    4990|    1215|    9546|        0|          20|        0.5|  1|    Male|\n",
      "+------+---------+---+---------+--------+---+-----+-----+-----+-----+-----+-----+---------+---------+---------+---------+---------+---------+--------+--------+--------+--------+--------+--------+---------+------------+-----------+---+--------+\n",
      "only showing top 1 row\n",
      "\n"
     ]
    }
   ],
   "source": [
    "df1.show(1)"
   ]
  },
  {
   "cell_type": "code",
   "execution_count": 73,
   "id": "c3c053b4",
   "metadata": {},
   "outputs": [
    {
     "data": {
      "text/plain": [
       "[(0.5, (1, 0)), (0.0, (1, 1)), (0.0, (1, 1)), (0.5, (1, 0)), (0.0, (1, 0))]"
      ]
     },
     "execution_count": 73,
     "metadata": {},
     "output_type": "execute_result"
    }
   ],
   "source": [
    "x2 = rdd.map(lambda x: (x[-3], (1,x[-5])))\n",
    "x2.take(5)"
   ]
  },
  {
   "cell_type": "code",
   "execution_count": 74,
   "id": "97d7a18e",
   "metadata": {},
   "outputs": [
    {
     "data": {
      "text/plain": [
       "[(0.5, (37, 20)),\n",
       " (0.0, (751, 281)),\n",
       " (1.3333333333333333, (8, 5)),\n",
       " (0.3333333333333333, (70, 31)),\n",
       " (0.16666666666666666, (36, 17)),\n",
       " (0.6666666666666666, (37, 18)),\n",
       " (1.5, (5, 2)),\n",
       " (1.1666666666666667, (11, 6)),\n",
       " (1.0, (14, 7)),\n",
       " (0.8333333333333334, (20, 10)),\n",
       " (1.6666666666666667, (2, 2)),\n",
       " (1.8333333333333333, (3, 2)),\n",
       " (2.0, (1, 0)),\n",
       " (2.1666666666666665, (2, 0)),\n",
       " (2.3333333333333335, (1, 0)),\n",
       " (2.5, (1, 1)),\n",
       " (3.0, (1, 1))]"
      ]
     },
     "execution_count": 74,
     "metadata": {},
     "output_type": "execute_result"
    }
   ],
   "source": [
    "x2 = x2.reduceByKey(lambda x,y : (x[0]+y[0], x[1]+y[1]))\n",
    "x2.collect()"
   ]
  },
  {
   "cell_type": "code",
   "execution_count": 75,
   "id": "08361dcb",
   "metadata": {},
   "outputs": [
    {
     "data": {
      "text/plain": [
       "[(0.5, 37, 20, 54.054054054054056),\n",
       " (0.0, 751, 281, 37.416777629826896),\n",
       " (1.3333333333333333, 8, 5, 62.5),\n",
       " (0.3333333333333333, 70, 31, 44.285714285714285),\n",
       " (0.16666666666666666, 36, 17, 47.22222222222222),\n",
       " (0.6666666666666666, 37, 18, 48.64864864864865),\n",
       " (1.5, 5, 2, 40.0),\n",
       " (1.1666666666666667, 11, 6, 54.54545454545454),\n",
       " (1.0, 14, 7, 50.0),\n",
       " (0.8333333333333334, 20, 10, 50.0),\n",
       " (1.6666666666666667, 2, 2, 100.0),\n",
       " (1.8333333333333333, 3, 2, 66.66666666666666),\n",
       " (2.0, 1, 0, 0.0),\n",
       " (2.1666666666666665, 2, 0, 0.0),\n",
       " (2.3333333333333335, 1, 0, 0.0),\n",
       " (2.5, 1, 1, 100.0),\n",
       " (3.0, 1, 1, 100.0)]"
      ]
     },
     "execution_count": 75,
     "metadata": {},
     "output_type": "execute_result"
    }
   ],
   "source": [
    "x2 = x2.map(lambda x:(x[0] , x[1][0] , x[1][1] , x[1][1]/x[1][0]*100 ) )\n",
    "x2.collect()"
   ]
  },
  {
   "cell_type": "code",
   "execution_count": 76,
   "id": "c6fbd933",
   "metadata": {},
   "outputs": [
    {
     "name": "stdout",
     "output_type": "stream",
     "text": [
      "+-------------------+-----+--------+------------------+\n",
      "|        AVG_PAY_DUR|Total|Defaults|       PER_DEFAULT|\n",
      "+-------------------+-----+--------+------------------+\n",
      "|                0.0|  751|     281|37.416777629826896|\n",
      "|0.16666666666666666|   36|      17| 47.22222222222222|\n",
      "| 0.3333333333333333|   70|      31|44.285714285714285|\n",
      "|                0.5|   37|      20|54.054054054054056|\n",
      "| 0.6666666666666666|   37|      18| 48.64864864864865|\n",
      "| 0.8333333333333334|   20|      10|              50.0|\n",
      "|                1.0|   14|       7|              50.0|\n",
      "| 1.1666666666666667|   11|       6| 54.54545454545454|\n",
      "| 1.3333333333333333|    8|       5|              62.5|\n",
      "|                1.5|    5|       2|              40.0|\n",
      "| 1.6666666666666667|    2|       2|             100.0|\n",
      "| 1.8333333333333333|    3|       2| 66.66666666666666|\n",
      "|                2.0|    1|       0|               0.0|\n",
      "| 2.1666666666666665|    2|       0|               0.0|\n",
      "| 2.3333333333333335|    1|       0|               0.0|\n",
      "|                2.5|    1|       1|             100.0|\n",
      "|                3.0|    1|       1|             100.0|\n",
      "+-------------------+-----+--------+------------------+\n",
      "\n"
     ]
    }
   ],
   "source": [
    "xx2 = x2.toDF(['AVG_PAY_DUR','Total','Defaults','PER_DEFAULT']).sort('AVG_PAY_DUR')\n",
    "xx2.show()"
   ]
  },
  {
   "cell_type": "code",
   "execution_count": 77,
   "id": "a4c059a4",
   "metadata": {},
   "outputs": [],
   "source": [
    "xx2.createOrReplaceTempView(\"xx2\")"
   ]
  },
  {
   "cell_type": "code",
   "execution_count": 78,
   "id": "65f6a42e",
   "metadata": {},
   "outputs": [
    {
     "name": "stdout",
     "output_type": "stream",
     "text": [
      "+-------------------+-----+--------+-----------+\n",
      "|        AVG_PAY_DUR|Total|Defaults|PER_DEFAULT|\n",
      "+-------------------+-----+--------+-----------+\n",
      "|                0.0|  751|     281|       37.0|\n",
      "|0.16666666666666666|   36|      17|       47.0|\n",
      "| 0.3333333333333333|   70|      31|       44.0|\n",
      "|                0.5|   37|      20|       54.0|\n",
      "| 0.6666666666666666|   37|      18|       49.0|\n",
      "| 0.8333333333333334|   20|      10|       50.0|\n",
      "|                1.0|   14|       7|       50.0|\n",
      "| 1.1666666666666667|   11|       6|       55.0|\n",
      "| 1.3333333333333333|    8|       5|       63.0|\n",
      "|                1.5|    5|       2|       40.0|\n",
      "| 1.6666666666666667|    2|       2|      100.0|\n",
      "| 1.8333333333333333|    3|       2|       67.0|\n",
      "|                2.0|    1|       0|        0.0|\n",
      "| 2.1666666666666665|    2|       0|        0.0|\n",
      "| 2.3333333333333335|    1|       0|        0.0|\n",
      "|                2.5|    1|       1|      100.0|\n",
      "|                3.0|    1|       1|      100.0|\n",
      "+-------------------+-----+--------+-----------+\n",
      "\n"
     ]
    }
   ],
   "source": [
    "spark.sql(\"select AVG_PAY_DUR, Total, Defaults, round(PER_DEFAULT) as PER_DEFAULT from xx2\").show()"
   ]
  },
  {
   "cell_type": "code",
   "execution_count": null,
   "id": "6771b933",
   "metadata": {},
   "outputs": [],
   "source": []
  },
  {
   "cell_type": "code",
   "execution_count": null,
   "id": "f055e5a7",
   "metadata": {},
   "outputs": [],
   "source": []
  },
  {
   "cell_type": "code",
   "execution_count": null,
   "id": "d7c9ebba",
   "metadata": {},
   "outputs": [],
   "source": []
  },
  {
   "cell_type": "code",
   "execution_count": null,
   "id": "372b1d9d",
   "metadata": {},
   "outputs": [],
   "source": []
  },
  {
   "cell_type": "code",
   "execution_count": 79,
   "id": "c4ddfffe",
   "metadata": {},
   "outputs": [
    {
     "name": "stdout",
     "output_type": "stream",
     "text": [
      "[1, 2, 3, 4, 5]\n"
     ]
    },
    {
     "data": {
      "text/plain": [
       "51"
      ]
     },
     "execution_count": 79,
     "metadata": {},
     "output_type": "execute_result"
    }
   ],
   "source": [
    "rdd = sc.parallelize([1, 2, 3, 4, 5])\n",
    "print(rdd.collect())\n",
    "sum_result = rdd.fold(4,lambda x, y: x + y)\n",
    "sum_result"
   ]
  },
  {
   "cell_type": "code",
   "execution_count": 80,
   "id": "cbd49bc2",
   "metadata": {},
   "outputs": [
    {
     "data": {
      "text/plain": [
       "21"
      ]
     },
     "execution_count": 80,
     "metadata": {},
     "output_type": "execute_result"
    }
   ],
   "source": [
    "2*2 + 2*1 + 1+3+4+5+2"
   ]
  },
  {
   "cell_type": "code",
   "execution_count": 101,
   "id": "cc4c5901",
   "metadata": {},
   "outputs": [],
   "source": [
    "rdd = sc.parallelize([[1, 2],[ 3, 4], [5,6]])"
   ]
  },
  {
   "cell_type": "code",
   "execution_count": 102,
   "id": "dc780ddc",
   "metadata": {},
   "outputs": [
    {
     "data": {
      "text/plain": [
       "[[1, 2], [3, 4], [5, 6]]"
      ]
     },
     "execution_count": 102,
     "metadata": {},
     "output_type": "execute_result"
    }
   ],
   "source": [
    "rdd.collect()"
   ]
  },
  {
   "cell_type": "code",
   "execution_count": 99,
   "id": "c3c55291",
   "metadata": {},
   "outputs": [
    {
     "data": {
      "text/plain": [
       "[1, 2, 1, 2, 3, 4, 3, 4, 5, 6, 5, 6]"
      ]
     },
     "execution_count": 99,
     "metadata": {},
     "output_type": "execute_result"
    }
   ],
   "source": [
    "rdd.flatMap(lambda x:x*2).collect()"
   ]
  },
  {
   "cell_type": "code",
   "execution_count": 100,
   "id": "1a487aa5",
   "metadata": {},
   "outputs": [
    {
     "data": {
      "text/plain": [
       "[[1, 2, 1, 2], [3, 4, 3, 4], [5, 6, 5, 6]]"
      ]
     },
     "execution_count": 100,
     "metadata": {},
     "output_type": "execute_result"
    }
   ],
   "source": [
    "rdd.map(lambda x:x*2).collect()"
   ]
  },
  {
   "cell_type": "code",
   "execution_count": 103,
   "id": "da561056",
   "metadata": {},
   "outputs": [
    {
     "data": {
      "text/plain": [
       "[('A', 1), ('B', 2), ('A', 3), ('B', 4), ('C', 5)]"
      ]
     },
     "execution_count": 103,
     "metadata": {},
     "output_type": "execute_result"
    }
   ],
   "source": [
    "rdd = sc.parallelize(((\"A\", 1), (\"B\", 2), (\"A\", 3), (\"B\", 4), (\"C\", 5)))\n",
    "rdd.collect()"
   ]
  },
  {
   "cell_type": "code",
   "execution_count": 106,
   "id": "fe1c8306",
   "metadata": {},
   "outputs": [
    {
     "data": {
      "text/plain": [
       "[('B', 6), ('C', 5), ('A', 4)]"
      ]
     },
     "execution_count": 106,
     "metadata": {},
     "output_type": "execute_result"
    }
   ],
   "source": [
    "rdd.aggregateByKey( (0,0) , lambda x,y: (x +  ) ,( y +  ) , lambda x,y: x+y ).collect()"
   ]
  },
  {
   "cell_type": "code",
   "execution_count": null,
   "id": "f8427a37",
   "metadata": {},
   "outputs": [],
   "source": []
  }
 ],
 "metadata": {
  "kernelspec": {
   "display_name": "Python 3 (ipykernel)",
   "language": "python",
   "name": "python3"
  },
  "language_info": {
   "codemirror_mode": {
    "name": "ipython",
    "version": 3
   },
   "file_extension": ".py",
   "mimetype": "text/x-python",
   "name": "python",
   "nbconvert_exporter": "python",
   "pygments_lexer": "ipython3",
   "version": "3.10.7"
  }
 },
 "nbformat": 4,
 "nbformat_minor": 5
}
