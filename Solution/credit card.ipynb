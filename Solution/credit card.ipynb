{
 "cells": [
  {
   "cell_type": "code",
   "execution_count": 1,
   "id": "47b314b1",
   "metadata": {},
   "outputs": [],
   "source": [
    "import findspark"
   ]
  },
  {
   "cell_type": "code",
   "execution_count": 2,
   "id": "57a359c8",
   "metadata": {},
   "outputs": [],
   "source": [
    "findspark.init()"
   ]
  },
  {
   "cell_type": "code",
   "execution_count": 3,
   "id": "1b1d943a",
   "metadata": {},
   "outputs": [],
   "source": [
    "from pyspark import SparkContext\n",
    "from pyspark.sql import SparkSession"
   ]
  },
  {
   "cell_type": "code",
   "execution_count": 4,
   "id": "7aca3ad9",
   "metadata": {},
   "outputs": [],
   "source": [
    "spark = SparkSession.builder.appName('credit card').getOrCreate()"
   ]
  },
  {
   "cell_type": "code",
   "execution_count": 5,
   "id": "b736694b",
   "metadata": {},
   "outputs": [],
   "source": [
    "sc = spark.sparkContext"
   ]
  },
  {
   "cell_type": "code",
   "execution_count": 6,
   "id": "bec5b669",
   "metadata": {},
   "outputs": [],
   "source": [
    "rdd = sc.textFile('creditcard_csv.csv')"
   ]
  },
  {
   "cell_type": "code",
   "execution_count": 8,
   "id": "9b56dc41",
   "metadata": {},
   "outputs": [
    {
     "data": {
      "text/plain": [
       "['Time,V1,V2,V3,V4,V5,V6,V7,V8,V9,V10,V11,V12,V13,V14,V15,V16,V17,V18,V19,V20,V21,V22,V23,V24,V25,V26,V27,V28,Amount,Class',\n",
       " \"0,-1.3598071336738,-0.0727811733098497,2.53634673796914,1.37815522427443,-0.338320769942518,0.462387777762292,0.239598554061257,0.0986979012610507,0.363786969611213,0.0907941719789316,-0.551599533260813,-0.617800855762348,-0.991389847235408,-0.311169353699879,1.46817697209427,-0.470400525259478,0.207971241929242,0.0257905801985591,0.403992960255733,0.251412098239705,-0.018306777944153,0.277837575558899,-0.110473910188767,0.0669280749146731,0.128539358273528,-0.189114843888824,0.133558376740387,-0.0210530534538215,149.62,'0'\",\n",
       " \"0,1.19185711131486,0.26615071205963,0.16648011335321,0.448154078460911,0.0600176492822243,-0.0823608088155687,-0.0788029833323113,0.0851016549148104,-0.255425128109186,-0.166974414004614,1.61272666105479,1.06523531137287,0.48909501589608,-0.143772296441519,0.635558093258208,0.463917041022171,-0.114804663102346,-0.183361270123994,-0.145783041325259,-0.0690831352230203,-0.225775248033138,-0.638671952771851,0.101288021253234,-0.339846475529127,0.167170404418143,0.125894532368176,-0.00898309914322813,0.0147241691924927,2.69,'0'\",\n",
       " \"1,-1.35835406159823,-1.34016307473609,1.77320934263119,0.379779593034328,-0.503198133318193,1.80049938079263,0.791460956450422,0.247675786588991,-1.51465432260583,0.207642865216696,0.624501459424895,0.066083685268831,0.717292731410831,-0.165945922763554,2.34586494901581,-2.89008319444231,1.10996937869599,-0.121359313195888,-2.26185709530414,0.524979725224404,0.247998153469754,0.771679401917229,0.909412262347719,-0.689280956490685,-0.327641833735251,-0.139096571514147,-0.0553527940384261,-0.0597518405929204,378.66,'0'\",\n",
       " \"1,-0.966271711572087,-0.185226008082898,1.79299333957872,-0.863291275036453,-0.0103088796030823,1.24720316752486,0.23760893977178,0.377435874652262,-1.38702406270197,-0.0549519224713749,-0.226487263835401,0.178228225877303,0.507756869957169,-0.28792374549456,-0.631418117709045,-1.0596472454325,-0.684092786345479,1.96577500349538,-1.2326219700892,-0.208037781160366,-0.108300452035545,0.00527359678253453,-0.190320518742841,-1.17557533186321,0.647376034602038,-0.221928844458407,0.0627228487293033,0.0614576285006353,123.5,'0'\"]"
      ]
     },
     "execution_count": 8,
     "metadata": {},
     "output_type": "execute_result"
    }
   ],
   "source": [
    "rdd.take(5)"
   ]
  },
  {
   "cell_type": "code",
   "execution_count": 9,
   "id": "5ac08165",
   "metadata": {},
   "outputs": [],
   "source": [
    "head= rdd.first()\n",
    "credit = rdd.filter(lambda x : x!= head) "
   ]
  },
  {
   "cell_type": "code",
   "execution_count": 10,
   "id": "ab755f72",
   "metadata": {},
   "outputs": [
    {
     "data": {
      "text/plain": [
       "[\"0,-1.3598071336738,-0.0727811733098497,2.53634673796914,1.37815522427443,-0.338320769942518,0.462387777762292,0.239598554061257,0.0986979012610507,0.363786969611213,0.0907941719789316,-0.551599533260813,-0.617800855762348,-0.991389847235408,-0.311169353699879,1.46817697209427,-0.470400525259478,0.207971241929242,0.0257905801985591,0.403992960255733,0.251412098239705,-0.018306777944153,0.277837575558899,-0.110473910188767,0.0669280749146731,0.128539358273528,-0.189114843888824,0.133558376740387,-0.0210530534538215,149.62,'0'\",\n",
       " \"0,1.19185711131486,0.26615071205963,0.16648011335321,0.448154078460911,0.0600176492822243,-0.0823608088155687,-0.0788029833323113,0.0851016549148104,-0.255425128109186,-0.166974414004614,1.61272666105479,1.06523531137287,0.48909501589608,-0.143772296441519,0.635558093258208,0.463917041022171,-0.114804663102346,-0.183361270123994,-0.145783041325259,-0.0690831352230203,-0.225775248033138,-0.638671952771851,0.101288021253234,-0.339846475529127,0.167170404418143,0.125894532368176,-0.00898309914322813,0.0147241691924927,2.69,'0'\",\n",
       " \"1,-1.35835406159823,-1.34016307473609,1.77320934263119,0.379779593034328,-0.503198133318193,1.80049938079263,0.791460956450422,0.247675786588991,-1.51465432260583,0.207642865216696,0.624501459424895,0.066083685268831,0.717292731410831,-0.165945922763554,2.34586494901581,-2.89008319444231,1.10996937869599,-0.121359313195888,-2.26185709530414,0.524979725224404,0.247998153469754,0.771679401917229,0.909412262347719,-0.689280956490685,-0.327641833735251,-0.139096571514147,-0.0553527940384261,-0.0597518405929204,378.66,'0'\",\n",
       " \"1,-0.966271711572087,-0.185226008082898,1.79299333957872,-0.863291275036453,-0.0103088796030823,1.24720316752486,0.23760893977178,0.377435874652262,-1.38702406270197,-0.0549519224713749,-0.226487263835401,0.178228225877303,0.507756869957169,-0.28792374549456,-0.631418117709045,-1.0596472454325,-0.684092786345479,1.96577500349538,-1.2326219700892,-0.208037781160366,-0.108300452035545,0.00527359678253453,-0.190320518742841,-1.17557533186321,0.647376034602038,-0.221928844458407,0.0627228487293033,0.0614576285006353,123.5,'0'\",\n",
       " \"2,-1.15823309349523,0.877736754848451,1.548717846511,0.403033933955121,-0.407193377311653,0.0959214624684256,0.592940745385545,-0.270532677192282,0.817739308235294,0.753074431976354,-0.822842877946363,0.53819555014995,1.3458515932154,-1.11966983471731,0.175121130008994,-0.451449182813529,-0.237033239362776,-0.0381947870352842,0.803486924960175,0.408542360392758,-0.00943069713232919,0.79827849458971,-0.137458079619063,0.141266983824769,-0.206009587619756,0.502292224181569,0.219422229513348,0.215153147499206,69.99,'0'\"]"
      ]
     },
     "execution_count": 10,
     "metadata": {},
     "output_type": "execute_result"
    }
   ],
   "source": [
    "credit.take(5)"
   ]
  },
  {
   "cell_type": "code",
   "execution_count": 11,
   "id": "b2febeb5",
   "metadata": {},
   "outputs": [
    {
     "data": {
      "text/plain": [
       "'Time,V1,V2,V3,V4,V5,V6,V7,V8,V9,V10,V11,V12,V13,V14,V15,V16,V17,V18,V19,V20,V21,V22,V23,V24,V25,V26,V27,V28,Amount,Class'"
      ]
     },
     "execution_count": 11,
     "metadata": {},
     "output_type": "execute_result"
    }
   ],
   "source": [
    "head"
   ]
  },
  {
   "cell_type": "code",
   "execution_count": 12,
   "id": "2ba894d9",
   "metadata": {},
   "outputs": [
    {
     "data": {
      "text/plain": [
       "['Time,V1,V2,V3,V4,V5,V6,V7,V8,V9,V10,V11,V12,V13,V14,V15,V16,V17,V18,V19,V20,V21,V22,V23,V24,V25,V26,V27,V28,Amount,Class']"
      ]
     },
     "execution_count": 12,
     "metadata": {},
     "output_type": "execute_result"
    }
   ],
   "source": [
    "rdd.take(1)"
   ]
  },
  {
   "cell_type": "code",
   "execution_count": 13,
   "id": "3bf2d0db",
   "metadata": {},
   "outputs": [],
   "source": [
    "# as we don't have any info about columnn v1 to v28 we are not selecting them"
   ]
  },
  {
   "cell_type": "code",
   "execution_count": 14,
   "id": "8ae0a868",
   "metadata": {},
   "outputs": [],
   "source": [
    "rdd2 = credit.map(lambda x: x.split(','))"
   ]
  },
  {
   "cell_type": "code",
   "execution_count": 15,
   "id": "00d3d5f6",
   "metadata": {},
   "outputs": [
    {
     "data": {
      "text/plain": [
       "[['0',\n",
       "  '-1.3598071336738',\n",
       "  '-0.0727811733098497',\n",
       "  '2.53634673796914',\n",
       "  '1.37815522427443',\n",
       "  '-0.338320769942518',\n",
       "  '0.462387777762292',\n",
       "  '0.239598554061257',\n",
       "  '0.0986979012610507',\n",
       "  '0.363786969611213',\n",
       "  '0.0907941719789316',\n",
       "  '-0.551599533260813',\n",
       "  '-0.617800855762348',\n",
       "  '-0.991389847235408',\n",
       "  '-0.311169353699879',\n",
       "  '1.46817697209427',\n",
       "  '-0.470400525259478',\n",
       "  '0.207971241929242',\n",
       "  '0.0257905801985591',\n",
       "  '0.403992960255733',\n",
       "  '0.251412098239705',\n",
       "  '-0.018306777944153',\n",
       "  '0.277837575558899',\n",
       "  '-0.110473910188767',\n",
       "  '0.0669280749146731',\n",
       "  '0.128539358273528',\n",
       "  '-0.189114843888824',\n",
       "  '0.133558376740387',\n",
       "  '-0.0210530534538215',\n",
       "  '149.62',\n",
       "  \"'0'\"]]"
      ]
     },
     "execution_count": 15,
     "metadata": {},
     "output_type": "execute_result"
    }
   ],
   "source": [
    "rdd2.take(1)"
   ]
  },
  {
   "cell_type": "code",
   "execution_count": 16,
   "id": "100c6c26",
   "metadata": {},
   "outputs": [],
   "source": [
    "import datetime as dt"
   ]
  },
  {
   "cell_type": "code",
   "execution_count": 17,
   "id": "22c1bfe4",
   "metadata": {},
   "outputs": [],
   "source": [
    "ccard = rdd2.map(lambda x: [str(dt.datetime.strptime('01-01-2023 00:00:00', '%d-%m-%Y %H:%M:%S')+\\\n",
    "                                dt.timedelta(seconds = float(x[0]))),\\\n",
    "                            float(x[-2]), int(x[-1][1])])"
   ]
  },
  {
   "cell_type": "code",
   "execution_count": 18,
   "id": "28d31b81",
   "metadata": {
    "scrolled": true
   },
   "outputs": [
    {
     "data": {
      "text/plain": [
       "[['2023-01-01 00:00:00', 149.62, 0],\n",
       " ['2023-01-01 00:00:00', 2.69, 0],\n",
       " ['2023-01-01 00:00:01', 378.66, 0],\n",
       " ['2023-01-01 00:00:01', 123.5, 0],\n",
       " ['2023-01-01 00:00:02', 69.99, 0],\n",
       " ['2023-01-01 00:00:02', 3.67, 0],\n",
       " ['2023-01-01 00:00:04', 4.99, 0],\n",
       " ['2023-01-01 00:00:07', 40.8, 0],\n",
       " ['2023-01-01 00:00:07', 93.2, 0],\n",
       " ['2023-01-01 00:00:09', 3.68, 0]]"
      ]
     },
     "execution_count": 18,
     "metadata": {},
     "output_type": "execute_result"
    }
   ],
   "source": [
    "ccard.take(10)"
   ]
  },
  {
   "cell_type": "code",
   "execution_count": null,
   "id": "2fcd5513",
   "metadata": {},
   "outputs": [],
   "source": []
  },
  {
   "cell_type": "code",
   "execution_count": null,
   "id": "4349fe1a",
   "metadata": {},
   "outputs": [],
   "source": []
  },
  {
   "cell_type": "markdown",
   "id": "ad088eaa",
   "metadata": {},
   "source": [
    "## 1. What is amount by class wise"
   ]
  },
  {
   "cell_type": "code",
   "execution_count": 19,
   "id": "581efc7f",
   "metadata": {},
   "outputs": [],
   "source": [
    "classgroup = ccard.map(lambda x: [x[2], (x[1],1)])"
   ]
  },
  {
   "cell_type": "code",
   "execution_count": 20,
   "id": "83bfc4c4",
   "metadata": {},
   "outputs": [
    {
     "data": {
      "text/plain": [
       "[[0, (149.62, 1)],\n",
       " [0, (2.69, 1)],\n",
       " [0, (378.66, 1)],\n",
       " [0, (123.5, 1)],\n",
       " [0, (69.99, 1)]]"
      ]
     },
     "execution_count": 20,
     "metadata": {},
     "output_type": "execute_result"
    }
   ],
   "source": [
    "classgroup.take(5)"
   ]
  },
  {
   "cell_type": "code",
   "execution_count": 22,
   "id": "d4afc705",
   "metadata": {},
   "outputs": [],
   "source": [
    "class_amt = classgroup.reduceByKey(lambda a,b: [a[0]+b[0], a[1]+b[1]])"
   ]
  },
  {
   "cell_type": "code",
   "execution_count": 24,
   "id": "915eb896",
   "metadata": {},
   "outputs": [
    {
     "data": {
      "text/plain": [
       "[(0, [25102462.040004306, 284315]), (1, [60127.97, 492])]"
      ]
     },
     "execution_count": 24,
     "metadata": {},
     "output_type": "execute_result"
    }
   ],
   "source": [
    "class_amt.take(5)"
   ]
  },
  {
   "cell_type": "code",
   "execution_count": 23,
   "id": "86286678",
   "metadata": {},
   "outputs": [],
   "source": [
    "class_avg_amt = class_amt.mapValues(lambda x: x[0]/x[1])"
   ]
  },
  {
   "cell_type": "code",
   "execution_count": null,
   "id": "7178d342",
   "metadata": {},
   "outputs": [],
   "source": []
  },
  {
   "cell_type": "code",
   "execution_count": 21,
   "id": "9f83d421",
   "metadata": {},
   "outputs": [
    {
     "data": {
      "text/plain": [
       "[(0, 88.29102242232842), (1, 122.21132113821139)]"
      ]
     },
     "execution_count": 21,
     "metadata": {},
     "output_type": "execute_result"
    }
   ],
   "source": [
    "class_avg_amt.take(3)"
   ]
  },
  {
   "cell_type": "code",
   "execution_count": 22,
   "id": "14cdee79",
   "metadata": {},
   "outputs": [
    {
     "data": {
      "text/plain": [
       "[['2023-01-01 00:00:00', 149.62, 0],\n",
       " ['2023-01-01 00:00:00', 2.69, 0],\n",
       " ['2023-01-01 00:00:01', 378.66, 0]]"
      ]
     },
     "execution_count": 22,
     "metadata": {},
     "output_type": "execute_result"
    }
   ],
   "source": [
    "ccard.take(3)"
   ]
  },
  {
   "cell_type": "markdown",
   "id": "86546cb8",
   "metadata": {},
   "source": [
    "## 2. what is highest amount by class and time wise"
   ]
  },
  {
   "cell_type": "code",
   "execution_count": 23,
   "id": "7cfef124",
   "metadata": {},
   "outputs": [],
   "source": [
    "# grouping based on class and hour\n",
    "classtimegroup = ccard.map(lambda x: [(x[2], x[0][11:13]), x[1]] )"
   ]
  },
  {
   "cell_type": "code",
   "execution_count": 24,
   "id": "d6c9752f",
   "metadata": {},
   "outputs": [
    {
     "data": {
      "text/plain": [
       "[(1, '00'), (0, '01'), (1, '03'), (1, '04'), (1, '07'), (1, '08')]"
      ]
     },
     "execution_count": 24,
     "metadata": {},
     "output_type": "execute_result"
    }
   ],
   "source": [
    "classtimegroup.keys().distinct().take(6)"
   ]
  },
  {
   "cell_type": "code",
   "execution_count": 25,
   "id": "e0cf8103",
   "metadata": {},
   "outputs": [],
   "source": [
    "high_amt = classtimegroup.reduceByKey(max).sortBy(lambda x: x[1], ascending = False)"
   ]
  },
  {
   "cell_type": "code",
   "execution_count": 26,
   "id": "36eeed4a",
   "metadata": {},
   "outputs": [
    {
     "data": {
      "text/plain": [
       "[((0, '22'), 25691.16),\n",
       " ((0, '13'), 19656.53),\n",
       " ((0, '02'), 18910.0),\n",
       " ((0, '11'), 12910.93),\n",
       " ((0, '12'), 11898.09)]"
      ]
     },
     "execution_count": 26,
     "metadata": {},
     "output_type": "execute_result"
    }
   ],
   "source": [
    "high_amt.take(5)"
   ]
  },
  {
   "cell_type": "markdown",
   "id": "3d70adbe",
   "metadata": {},
   "source": [
    "## 3. what is lowst amount by time wise"
   ]
  },
  {
   "cell_type": "code",
   "execution_count": 27,
   "id": "fe2abf01",
   "metadata": {},
   "outputs": [],
   "source": [
    "timegroup = ccard.map(lambda x: [ x[0][11:13], x[1]])"
   ]
  },
  {
   "cell_type": "code",
   "execution_count": 28,
   "id": "6f5351d0",
   "metadata": {},
   "outputs": [],
   "source": [
    "low_amt = timegroup.reduceByKey(min).sortBy(lambda x: x[1])"
   ]
  },
  {
   "cell_type": "code",
   "execution_count": 29,
   "id": "3be7b2cc",
   "metadata": {},
   "outputs": [
    {
     "data": {
      "text/plain": [
       "[('00', 0.0), ('02', 0.0), ('10', 0.0), ('01', 0.0), ('06', 0.0)]"
      ]
     },
     "execution_count": 29,
     "metadata": {},
     "output_type": "execute_result"
    }
   ],
   "source": [
    "low_amt.take(5)"
   ]
  },
  {
   "cell_type": "markdown",
   "id": "a8df3a8b",
   "metadata": {},
   "source": [
    "## 4. what is total amount by class wise"
   ]
  },
  {
   "cell_type": "code",
   "execution_count": 34,
   "id": "d61614d7",
   "metadata": {},
   "outputs": [
    {
     "data": {
      "text/plain": [
       "[(0, [25102462.040004306, 284315]), (1, [60127.97, 492])]"
      ]
     },
     "execution_count": 34,
     "metadata": {},
     "output_type": "execute_result"
    }
   ],
   "source": [
    "class_amt.take(5)"
   ]
  },
  {
   "cell_type": "code",
   "execution_count": 30,
   "id": "aa7e743d",
   "metadata": {
    "scrolled": false
   },
   "outputs": [],
   "source": [
    "class_total_amt = class_amt.map(lambda x: (x[0], x[1][0]))"
   ]
  },
  {
   "cell_type": "code",
   "execution_count": 31,
   "id": "65d4fc00",
   "metadata": {},
   "outputs": [
    {
     "data": {
      "text/plain": [
       "[(0, [25102462.040004306, 284315]), (1, [60127.97, 492])]"
      ]
     },
     "execution_count": 31,
     "metadata": {},
     "output_type": "execute_result"
    }
   ],
   "source": [
    "class_amt.take(5)"
   ]
  },
  {
   "cell_type": "code",
   "execution_count": 32,
   "id": "fec0675d",
   "metadata": {},
   "outputs": [
    {
     "data": {
      "text/plain": [
       "[(0, 25102462.040004306), (1, 60127.97)]"
      ]
     },
     "execution_count": 32,
     "metadata": {},
     "output_type": "execute_result"
    }
   ],
   "source": [
    "class_total_amt.take(5)"
   ]
  },
  {
   "cell_type": "code",
   "execution_count": null,
   "id": "e117019f",
   "metadata": {},
   "outputs": [],
   "source": []
  },
  {
   "cell_type": "markdown",
   "id": "af13e948",
   "metadata": {},
   "source": [
    "## 5. what is average amount by class and time wise"
   ]
  },
  {
   "cell_type": "code",
   "execution_count": 33,
   "id": "dfc86f3f",
   "metadata": {},
   "outputs": [
    {
     "data": {
      "text/plain": [
       "[[(0, '00'), 149.62],\n",
       " [(0, '00'), 2.69],\n",
       " [(0, '00'), 378.66],\n",
       " [(0, '00'), 123.5],\n",
       " [(0, '00'), 69.99]]"
      ]
     },
     "execution_count": 33,
     "metadata": {},
     "output_type": "execute_result"
    }
   ],
   "source": [
    "classtimegroup.take(5)"
   ]
  },
  {
   "cell_type": "code",
   "execution_count": 35,
   "id": "808127a4",
   "metadata": {},
   "outputs": [],
   "source": [
    "classtimemapgroup = classtimegroup.map(lambda x: [x[0], (x[1],1)])"
   ]
  },
  {
   "cell_type": "code",
   "execution_count": 36,
   "id": "f1f65627",
   "metadata": {},
   "outputs": [
    {
     "data": {
      "text/plain": [
       "[[(0, '00'), (149.62, 1)],\n",
       " [(0, '00'), (2.69, 1)],\n",
       " [(0, '00'), (378.66, 1)],\n",
       " [(0, '00'), (123.5, 1)],\n",
       " [(0, '00'), (69.99, 1)]]"
      ]
     },
     "execution_count": 36,
     "metadata": {},
     "output_type": "execute_result"
    }
   ],
   "source": [
    "classtimemapgroup.take(5)"
   ]
  },
  {
   "cell_type": "code",
   "execution_count": 37,
   "id": "87d1ab14",
   "metadata": {},
   "outputs": [],
   "source": [
    "classtimemid = classtimemapgroup.reduceByKey(lambda a,b: (a[0]+b[0], a[1]+b[1]))"
   ]
  },
  {
   "cell_type": "code",
   "execution_count": 38,
   "id": "8ec40536",
   "metadata": {},
   "outputs": [
    {
     "data": {
      "text/plain": [
       "[((1, '00'), (1820.07, 6)),\n",
       " ((0, '01'), (263046.13000000035, 4210)),\n",
       " ((1, '03'), (233.91000000000003, 17)),\n",
       " ((1, '04'), (1548.1999999999998, 23)),\n",
       " ((1, '07'), (2757.779999999999, 23))]"
      ]
     },
     "execution_count": 38,
     "metadata": {},
     "output_type": "execute_result"
    }
   ],
   "source": [
    "classtimemid.take(5)"
   ]
  },
  {
   "cell_type": "code",
   "execution_count": 39,
   "id": "65ab4be0",
   "metadata": {},
   "outputs": [],
   "source": [
    "class_time_avg = classtimemid.mapValues(lambda x: x[0]/x[1])"
   ]
  },
  {
   "cell_type": "code",
   "execution_count": 40,
   "id": "fc9681fd",
   "metadata": {},
   "outputs": [
    {
     "data": {
      "text/plain": [
       "[((1, '00'), 303.34499999999997),\n",
       " ((0, '01'), 62.48126603325424),\n",
       " ((1, '03'), 13.759411764705884),\n",
       " ((1, '04'), 67.31304347826087),\n",
       " ((1, '07'), 119.90347826086952)]"
      ]
     },
     "execution_count": 40,
     "metadata": {},
     "output_type": "execute_result"
    }
   ],
   "source": [
    "class_time_avg.take(5)"
   ]
  },
  {
   "cell_type": "code",
   "execution_count": null,
   "id": "29e998cc",
   "metadata": {},
   "outputs": [],
   "source": []
  },
  {
   "cell_type": "code",
   "execution_count": null,
   "id": "38bf74d3",
   "metadata": {},
   "outputs": [],
   "source": []
  }
 ],
 "metadata": {
  "kernelspec": {
   "display_name": "Python 3 (ipykernel)",
   "language": "python",
   "name": "python3"
  },
  "language_info": {
   "codemirror_mode": {
    "name": "ipython",
    "version": 3
   },
   "file_extension": ".py",
   "mimetype": "text/x-python",
   "name": "python",
   "nbconvert_exporter": "python",
   "pygments_lexer": "ipython3",
   "version": "3.10.7"
  }
 },
 "nbformat": 4,
 "nbformat_minor": 5
}
