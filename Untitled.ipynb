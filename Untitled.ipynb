{
 "cells": [
  {
   "cell_type": "code",
   "execution_count": 1,
   "id": "39f032fd",
   "metadata": {},
   "outputs": [],
   "source": [
    "import findspark\n",
    "findspark.init()"
   ]
  },
  {
   "cell_type": "code",
   "execution_count": 2,
   "id": "82a8b960",
   "metadata": {},
   "outputs": [],
   "source": [
    "from pyspark import SparkContext\n",
    "from pyspark.sql import SparkSession"
   ]
  },
  {
   "cell_type": "code",
   "execution_count": 3,
   "id": "07a5f3c9",
   "metadata": {},
   "outputs": [],
   "source": [
    "spark = SparkSession.builder.appName('credit card default').getOrCreate()"
   ]
  },
  {
   "cell_type": "code",
   "execution_count": 4,
   "id": "9c714ebb",
   "metadata": {},
   "outputs": [],
   "source": [
    "sc = spark.sparkContext"
   ]
  },
  {
   "cell_type": "markdown",
   "id": "635bb010",
   "metadata": {},
   "source": [
    "## 1. Load file into rdd"
   ]
  },
  {
   "cell_type": "code",
   "execution_count": 21,
   "id": "759fba85",
   "metadata": {},
   "outputs": [],
   "source": [
    "rdd = sc.textFile('credit-card-default-1000.csv')"
   ]
  },
  {
   "cell_type": "code",
   "execution_count": 6,
   "id": "1d365ae5",
   "metadata": {},
   "outputs": [
    {
     "data": {
      "text/plain": [
       "['CUSTID,LIMIT_BAL,SEX,EDUCATION,MARRIAGE,AGE,PAY_1,PAY_2,PAY_3,PAY_4,PAY_5,PAY_6,BILL_AMT1,BILL_AMT2,BILL_AMT3,BILL_AMT4,BILL_AMT5,BILL_AMT6,PAY_AMT1,PAY_AMT2,PAY_AMT3,PAY_AMT4,PAY_AMT5,PAY_AMT6,DEFAULTED',\n",
       " '530,20000,2,2,2,21,-1,-1,2,2,-2,-2,0,0,0,0,0,0,0,0,0,0,162000,0,0',\n",
       " '38,60000,2,2,2,22,0,0,0,0,-2,-2,0,0,0,0,0,0,0,0,0,0,0,1576,0',\n",
       " '43,10000,1,2,2,22,0,0,0,0,-2,-2,0,0,0,0,0,0,0,0,0,0,0,1500,0',\n",
       " '47,20000,2,1,2,22,0,0,2,-1,0,-1,1131,291,582,291,0,291,291,582,0,0,130291,651,0']"
      ]
     },
     "execution_count": 6,
     "metadata": {},
     "output_type": "execute_result"
    }
   ],
   "source": [
    "rdd.take(5)"
   ]
  },
  {
   "cell_type": "markdown",
   "id": "4bfd457b",
   "metadata": {},
   "source": [
    "## 2. Remove header row"
   ]
  },
  {
   "cell_type": "code",
   "execution_count": 22,
   "id": "73cb7de9",
   "metadata": {},
   "outputs": [
    {
     "data": {
      "text/plain": [
       "'CUSTID,LIMIT_BAL,SEX,EDUCATION,MARRIAGE,AGE,PAY_1,PAY_2,PAY_3,PAY_4,PAY_5,PAY_6,BILL_AMT1,BILL_AMT2,BILL_AMT3,BILL_AMT4,BILL_AMT5,BILL_AMT6,PAY_AMT1,PAY_AMT2,PAY_AMT3,PAY_AMT4,PAY_AMT5,PAY_AMT6,DEFAULTED'"
      ]
     },
     "execution_count": 22,
     "metadata": {},
     "output_type": "execute_result"
    }
   ],
   "source": [
    "head = rdd.first()\n",
    "head"
   ]
  },
  {
   "cell_type": "code",
   "execution_count": 23,
   "id": "34945090",
   "metadata": {},
   "outputs": [],
   "source": [
    "rdd2 = rdd.filter(lambda x: x!= head)"
   ]
  },
  {
   "cell_type": "code",
   "execution_count": 9,
   "id": "e0e26a28",
   "metadata": {},
   "outputs": [
    {
     "data": {
      "text/plain": [
       "['530,20000,2,2,2,21,-1,-1,2,2,-2,-2,0,0,0,0,0,0,0,0,0,0,162000,0,0',\n",
       " '38,60000,2,2,2,22,0,0,0,0,-2,-2,0,0,0,0,0,0,0,0,0,0,0,1576,0',\n",
       " '43,10000,1,2,2,22,0,0,0,0,-2,-2,0,0,0,0,0,0,0,0,0,0,0,1500,0']"
      ]
     },
     "execution_count": 9,
     "metadata": {},
     "output_type": "execute_result"
    }
   ],
   "source": [
    "rdd2.take(3)"
   ]
  },
  {
   "cell_type": "markdown",
   "id": "07977bc5",
   "metadata": {},
   "source": [
    "## 3. Remove lines that are not \"CSV\""
   ]
  },
  {
   "cell_type": "code",
   "execution_count": 28,
   "id": "5cf3a661",
   "metadata": {},
   "outputs": [
    {
     "data": {
      "text/plain": [
       "1002"
      ]
     },
     "execution_count": 28,
     "metadata": {},
     "output_type": "execute_result"
    }
   ],
   "source": [
    "rdd2.count()"
   ]
  },
  {
   "cell_type": "code",
   "execution_count": 31,
   "id": "082f4a87",
   "metadata": {
    "scrolled": true
   },
   "outputs": [],
   "source": [
    "rdd3 = rdd2.map(lambda x: x.split(',')).filter(lambda x: all(x))"
   ]
  },
  {
   "cell_type": "code",
   "execution_count": 33,
   "id": "54a77005",
   "metadata": {},
   "outputs": [
    {
     "data": {
      "text/plain": [
       "1000"
      ]
     },
     "execution_count": 33,
     "metadata": {},
     "output_type": "execute_result"
    }
   ],
   "source": [
    "rdd3.count()"
   ]
  },
  {
   "cell_type": "markdown",
   "id": "e2045981",
   "metadata": {},
   "source": [
    "## 4.Remove double quotes that are present in few records."
   ]
  },
  {
   "cell_type": "code",
   "execution_count": 36,
   "id": "9c59e05a",
   "metadata": {
    "collapsed": true
   },
   "outputs": [
    {
     "data": {
      "text/plain": [
       "['530',\n",
       " '20000',\n",
       " '2',\n",
       " '2',\n",
       " '2',\n",
       " '21',\n",
       " '-1',\n",
       " '-1',\n",
       " '2',\n",
       " '2',\n",
       " '-2',\n",
       " '-2',\n",
       " '0',\n",
       " '0',\n",
       " '0',\n",
       " '0',\n",
       " '0',\n",
       " '0',\n",
       " '0',\n",
       " '0',\n",
       " '0',\n",
       " '0',\n",
       " '162000',\n",
       " '0',\n",
       " '0']"
      ]
     },
     "execution_count": 36,
     "metadata": {},
     "output_type": "execute_result"
    }
   ],
   "source": [
    "rdd3.first()"
   ]
  },
  {
   "cell_type": "code",
   "execution_count": 44,
   "id": "11e40251",
   "metadata": {},
   "outputs": [
    {
     "data": {
      "text/plain": [
       "1000"
      ]
     },
     "execution_count": 44,
     "metadata": {},
     "output_type": "execute_result"
    }
   ],
   "source": [
    "rdd3.filter(lambda x:~( '\"' in x)).count()"
   ]
  },
  {
   "cell_type": "markdown",
   "id": "9f339f2b",
   "metadata": {},
   "source": [
    "## 5. Convert into SQL Dataframe."
   ]
  },
  {
   "cell_type": "code",
   "execution_count": null,
   "id": "e2d39f62",
   "metadata": {},
   "outputs": [],
   "source": []
  }
 ],
 "metadata": {
  "kernelspec": {
   "display_name": "Python 3 (ipykernel)",
   "language": "python",
   "name": "python3"
  },
  "language_info": {
   "codemirror_mode": {
    "name": "ipython",
    "version": 3
   },
   "file_extension": ".py",
   "mimetype": "text/x-python",
   "name": "python",
   "nbconvert_exporter": "python",
   "pygments_lexer": "ipython3",
   "version": "3.10.7"
  }
 },
 "nbformat": 4,
 "nbformat_minor": 5
}
